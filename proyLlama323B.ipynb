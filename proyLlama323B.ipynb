{
  "nbformat": 4,
  "nbformat_minor": 0,
  "metadata": {
    "colab": {
      "provenance": [],
      "gpuType": "T4"
    },
    "kernelspec": {
      "name": "python3",
      "display_name": "Python 3"
    },
    "language_info": {
      "name": "python"
    },
    "accelerator": "GPU",
    "widgets": {
      "application/vnd.jupyter.widget-state+json": {
        "533d891d4d5f4e778e363fa8349b4e39": {
          "model_module": "@jupyter-widgets/controls",
          "model_name": "HBoxModel",
          "model_module_version": "1.5.0",
          "state": {
            "_dom_classes": [],
            "_model_module": "@jupyter-widgets/controls",
            "_model_module_version": "1.5.0",
            "_model_name": "HBoxModel",
            "_view_count": null,
            "_view_module": "@jupyter-widgets/controls",
            "_view_module_version": "1.5.0",
            "_view_name": "HBoxView",
            "box_style": "",
            "children": [
              "IPY_MODEL_9351e50ee96b47dba3999c8eb9e7fe06",
              "IPY_MODEL_f1cdef3ef7a847ba964839ab1f722911",
              "IPY_MODEL_1161fd69233441d1ac26b7db5278e04c"
            ],
            "layout": "IPY_MODEL_6d2fa20ba2e548b4873fc0118de0c25c"
          }
        },
        "9351e50ee96b47dba3999c8eb9e7fe06": {
          "model_module": "@jupyter-widgets/controls",
          "model_name": "HTMLModel",
          "model_module_version": "1.5.0",
          "state": {
            "_dom_classes": [],
            "_model_module": "@jupyter-widgets/controls",
            "_model_module_version": "1.5.0",
            "_model_name": "HTMLModel",
            "_view_count": null,
            "_view_module": "@jupyter-widgets/controls",
            "_view_module_version": "1.5.0",
            "_view_name": "HTMLView",
            "description": "",
            "description_tooltip": null,
            "layout": "IPY_MODEL_e54a35b5d47b4de68ae794fd629c1c2d",
            "placeholder": "​",
            "style": "IPY_MODEL_3768881b2fcc46ebbac7c56972ca25ec",
            "value": "Loading checkpoint shards: 100%"
          }
        },
        "f1cdef3ef7a847ba964839ab1f722911": {
          "model_module": "@jupyter-widgets/controls",
          "model_name": "FloatProgressModel",
          "model_module_version": "1.5.0",
          "state": {
            "_dom_classes": [],
            "_model_module": "@jupyter-widgets/controls",
            "_model_module_version": "1.5.0",
            "_model_name": "FloatProgressModel",
            "_view_count": null,
            "_view_module": "@jupyter-widgets/controls",
            "_view_module_version": "1.5.0",
            "_view_name": "ProgressView",
            "bar_style": "success",
            "description": "",
            "description_tooltip": null,
            "layout": "IPY_MODEL_9dc5341fcc434c0e9187d4fbb466f07e",
            "max": 2,
            "min": 0,
            "orientation": "horizontal",
            "style": "IPY_MODEL_472f490744c44342b09d22021fd846bd",
            "value": 2
          }
        },
        "1161fd69233441d1ac26b7db5278e04c": {
          "model_module": "@jupyter-widgets/controls",
          "model_name": "HTMLModel",
          "model_module_version": "1.5.0",
          "state": {
            "_dom_classes": [],
            "_model_module": "@jupyter-widgets/controls",
            "_model_module_version": "1.5.0",
            "_model_name": "HTMLModel",
            "_view_count": null,
            "_view_module": "@jupyter-widgets/controls",
            "_view_module_version": "1.5.0",
            "_view_name": "HTMLView",
            "description": "",
            "description_tooltip": null,
            "layout": "IPY_MODEL_2c89f960929d43e89795b5e4fb9517d7",
            "placeholder": "​",
            "style": "IPY_MODEL_1e438b10449944d082d437c74454435c",
            "value": " 2/2 [00:30&lt;00:00, 13.99s/it]"
          }
        },
        "6d2fa20ba2e548b4873fc0118de0c25c": {
          "model_module": "@jupyter-widgets/base",
          "model_name": "LayoutModel",
          "model_module_version": "1.2.0",
          "state": {
            "_model_module": "@jupyter-widgets/base",
            "_model_module_version": "1.2.0",
            "_model_name": "LayoutModel",
            "_view_count": null,
            "_view_module": "@jupyter-widgets/base",
            "_view_module_version": "1.2.0",
            "_view_name": "LayoutView",
            "align_content": null,
            "align_items": null,
            "align_self": null,
            "border": null,
            "bottom": null,
            "display": null,
            "flex": null,
            "flex_flow": null,
            "grid_area": null,
            "grid_auto_columns": null,
            "grid_auto_flow": null,
            "grid_auto_rows": null,
            "grid_column": null,
            "grid_gap": null,
            "grid_row": null,
            "grid_template_areas": null,
            "grid_template_columns": null,
            "grid_template_rows": null,
            "height": null,
            "justify_content": null,
            "justify_items": null,
            "left": null,
            "margin": null,
            "max_height": null,
            "max_width": null,
            "min_height": null,
            "min_width": null,
            "object_fit": null,
            "object_position": null,
            "order": null,
            "overflow": null,
            "overflow_x": null,
            "overflow_y": null,
            "padding": null,
            "right": null,
            "top": null,
            "visibility": null,
            "width": null
          }
        },
        "e54a35b5d47b4de68ae794fd629c1c2d": {
          "model_module": "@jupyter-widgets/base",
          "model_name": "LayoutModel",
          "model_module_version": "1.2.0",
          "state": {
            "_model_module": "@jupyter-widgets/base",
            "_model_module_version": "1.2.0",
            "_model_name": "LayoutModel",
            "_view_count": null,
            "_view_module": "@jupyter-widgets/base",
            "_view_module_version": "1.2.0",
            "_view_name": "LayoutView",
            "align_content": null,
            "align_items": null,
            "align_self": null,
            "border": null,
            "bottom": null,
            "display": null,
            "flex": null,
            "flex_flow": null,
            "grid_area": null,
            "grid_auto_columns": null,
            "grid_auto_flow": null,
            "grid_auto_rows": null,
            "grid_column": null,
            "grid_gap": null,
            "grid_row": null,
            "grid_template_areas": null,
            "grid_template_columns": null,
            "grid_template_rows": null,
            "height": null,
            "justify_content": null,
            "justify_items": null,
            "left": null,
            "margin": null,
            "max_height": null,
            "max_width": null,
            "min_height": null,
            "min_width": null,
            "object_fit": null,
            "object_position": null,
            "order": null,
            "overflow": null,
            "overflow_x": null,
            "overflow_y": null,
            "padding": null,
            "right": null,
            "top": null,
            "visibility": null,
            "width": null
          }
        },
        "3768881b2fcc46ebbac7c56972ca25ec": {
          "model_module": "@jupyter-widgets/controls",
          "model_name": "DescriptionStyleModel",
          "model_module_version": "1.5.0",
          "state": {
            "_model_module": "@jupyter-widgets/controls",
            "_model_module_version": "1.5.0",
            "_model_name": "DescriptionStyleModel",
            "_view_count": null,
            "_view_module": "@jupyter-widgets/base",
            "_view_module_version": "1.2.0",
            "_view_name": "StyleView",
            "description_width": ""
          }
        },
        "9dc5341fcc434c0e9187d4fbb466f07e": {
          "model_module": "@jupyter-widgets/base",
          "model_name": "LayoutModel",
          "model_module_version": "1.2.0",
          "state": {
            "_model_module": "@jupyter-widgets/base",
            "_model_module_version": "1.2.0",
            "_model_name": "LayoutModel",
            "_view_count": null,
            "_view_module": "@jupyter-widgets/base",
            "_view_module_version": "1.2.0",
            "_view_name": "LayoutView",
            "align_content": null,
            "align_items": null,
            "align_self": null,
            "border": null,
            "bottom": null,
            "display": null,
            "flex": null,
            "flex_flow": null,
            "grid_area": null,
            "grid_auto_columns": null,
            "grid_auto_flow": null,
            "grid_auto_rows": null,
            "grid_column": null,
            "grid_gap": null,
            "grid_row": null,
            "grid_template_areas": null,
            "grid_template_columns": null,
            "grid_template_rows": null,
            "height": null,
            "justify_content": null,
            "justify_items": null,
            "left": null,
            "margin": null,
            "max_height": null,
            "max_width": null,
            "min_height": null,
            "min_width": null,
            "object_fit": null,
            "object_position": null,
            "order": null,
            "overflow": null,
            "overflow_x": null,
            "overflow_y": null,
            "padding": null,
            "right": null,
            "top": null,
            "visibility": null,
            "width": null
          }
        },
        "472f490744c44342b09d22021fd846bd": {
          "model_module": "@jupyter-widgets/controls",
          "model_name": "ProgressStyleModel",
          "model_module_version": "1.5.0",
          "state": {
            "_model_module": "@jupyter-widgets/controls",
            "_model_module_version": "1.5.0",
            "_model_name": "ProgressStyleModel",
            "_view_count": null,
            "_view_module": "@jupyter-widgets/base",
            "_view_module_version": "1.2.0",
            "_view_name": "StyleView",
            "bar_color": null,
            "description_width": ""
          }
        },
        "2c89f960929d43e89795b5e4fb9517d7": {
          "model_module": "@jupyter-widgets/base",
          "model_name": "LayoutModel",
          "model_module_version": "1.2.0",
          "state": {
            "_model_module": "@jupyter-widgets/base",
            "_model_module_version": "1.2.0",
            "_model_name": "LayoutModel",
            "_view_count": null,
            "_view_module": "@jupyter-widgets/base",
            "_view_module_version": "1.2.0",
            "_view_name": "LayoutView",
            "align_content": null,
            "align_items": null,
            "align_self": null,
            "border": null,
            "bottom": null,
            "display": null,
            "flex": null,
            "flex_flow": null,
            "grid_area": null,
            "grid_auto_columns": null,
            "grid_auto_flow": null,
            "grid_auto_rows": null,
            "grid_column": null,
            "grid_gap": null,
            "grid_row": null,
            "grid_template_areas": null,
            "grid_template_columns": null,
            "grid_template_rows": null,
            "height": null,
            "justify_content": null,
            "justify_items": null,
            "left": null,
            "margin": null,
            "max_height": null,
            "max_width": null,
            "min_height": null,
            "min_width": null,
            "object_fit": null,
            "object_position": null,
            "order": null,
            "overflow": null,
            "overflow_x": null,
            "overflow_y": null,
            "padding": null,
            "right": null,
            "top": null,
            "visibility": null,
            "width": null
          }
        },
        "1e438b10449944d082d437c74454435c": {
          "model_module": "@jupyter-widgets/controls",
          "model_name": "DescriptionStyleModel",
          "model_module_version": "1.5.0",
          "state": {
            "_model_module": "@jupyter-widgets/controls",
            "_model_module_version": "1.5.0",
            "_model_name": "DescriptionStyleModel",
            "_view_count": null,
            "_view_module": "@jupyter-widgets/base",
            "_view_module_version": "1.2.0",
            "_view_name": "StyleView",
            "description_width": ""
          }
        },
        "04756ff27bb7498b940b7733711da4f2": {
          "model_module": "@jupyter-widgets/controls",
          "model_name": "HBoxModel",
          "model_module_version": "1.5.0",
          "state": {
            "_dom_classes": [],
            "_model_module": "@jupyter-widgets/controls",
            "_model_module_version": "1.5.0",
            "_model_name": "HBoxModel",
            "_view_count": null,
            "_view_module": "@jupyter-widgets/controls",
            "_view_module_version": "1.5.0",
            "_view_name": "HBoxView",
            "box_style": "",
            "children": [
              "IPY_MODEL_a04381b244634a1f845675980d5ac63e",
              "IPY_MODEL_4e3c0b9c64b24458a80792479e320042",
              "IPY_MODEL_6000c9ab87274ca2ab896f0082f8c7e8"
            ],
            "layout": "IPY_MODEL_b3bf86395fe5417d8a3d6c6912d97e72"
          }
        },
        "a04381b244634a1f845675980d5ac63e": {
          "model_module": "@jupyter-widgets/controls",
          "model_name": "HTMLModel",
          "model_module_version": "1.5.0",
          "state": {
            "_dom_classes": [],
            "_model_module": "@jupyter-widgets/controls",
            "_model_module_version": "1.5.0",
            "_model_name": "HTMLModel",
            "_view_count": null,
            "_view_module": "@jupyter-widgets/controls",
            "_view_module_version": "1.5.0",
            "_view_name": "HTMLView",
            "description": "",
            "description_tooltip": null,
            "layout": "IPY_MODEL_111cea6e63f348598f1ecece6dd2e123",
            "placeholder": "​",
            "style": "IPY_MODEL_8c35da286f774a328fe9298ca2596ef9",
            "value": "Loading checkpoint shards: 100%"
          }
        },
        "4e3c0b9c64b24458a80792479e320042": {
          "model_module": "@jupyter-widgets/controls",
          "model_name": "FloatProgressModel",
          "model_module_version": "1.5.0",
          "state": {
            "_dom_classes": [],
            "_model_module": "@jupyter-widgets/controls",
            "_model_module_version": "1.5.0",
            "_model_name": "FloatProgressModel",
            "_view_count": null,
            "_view_module": "@jupyter-widgets/controls",
            "_view_module_version": "1.5.0",
            "_view_name": "ProgressView",
            "bar_style": "success",
            "description": "",
            "description_tooltip": null,
            "layout": "IPY_MODEL_70420d9da85c45c4a2c4acd90395d9a3",
            "max": 2,
            "min": 0,
            "orientation": "horizontal",
            "style": "IPY_MODEL_7316d4ee13d34302af06d76af72a437b",
            "value": 2
          }
        },
        "6000c9ab87274ca2ab896f0082f8c7e8": {
          "model_module": "@jupyter-widgets/controls",
          "model_name": "HTMLModel",
          "model_module_version": "1.5.0",
          "state": {
            "_dom_classes": [],
            "_model_module": "@jupyter-widgets/controls",
            "_model_module_version": "1.5.0",
            "_model_name": "HTMLModel",
            "_view_count": null,
            "_view_module": "@jupyter-widgets/controls",
            "_view_module_version": "1.5.0",
            "_view_name": "HTMLView",
            "description": "",
            "description_tooltip": null,
            "layout": "IPY_MODEL_cfa45caab56744789ddfc52a30203afd",
            "placeholder": "​",
            "style": "IPY_MODEL_74916e50232c4e53834421ca70e112d0",
            "value": " 2/2 [00:30&lt;00:00, 13.76s/it]"
          }
        },
        "b3bf86395fe5417d8a3d6c6912d97e72": {
          "model_module": "@jupyter-widgets/base",
          "model_name": "LayoutModel",
          "model_module_version": "1.2.0",
          "state": {
            "_model_module": "@jupyter-widgets/base",
            "_model_module_version": "1.2.0",
            "_model_name": "LayoutModel",
            "_view_count": null,
            "_view_module": "@jupyter-widgets/base",
            "_view_module_version": "1.2.0",
            "_view_name": "LayoutView",
            "align_content": null,
            "align_items": null,
            "align_self": null,
            "border": null,
            "bottom": null,
            "display": null,
            "flex": null,
            "flex_flow": null,
            "grid_area": null,
            "grid_auto_columns": null,
            "grid_auto_flow": null,
            "grid_auto_rows": null,
            "grid_column": null,
            "grid_gap": null,
            "grid_row": null,
            "grid_template_areas": null,
            "grid_template_columns": null,
            "grid_template_rows": null,
            "height": null,
            "justify_content": null,
            "justify_items": null,
            "left": null,
            "margin": null,
            "max_height": null,
            "max_width": null,
            "min_height": null,
            "min_width": null,
            "object_fit": null,
            "object_position": null,
            "order": null,
            "overflow": null,
            "overflow_x": null,
            "overflow_y": null,
            "padding": null,
            "right": null,
            "top": null,
            "visibility": null,
            "width": null
          }
        },
        "111cea6e63f348598f1ecece6dd2e123": {
          "model_module": "@jupyter-widgets/base",
          "model_name": "LayoutModel",
          "model_module_version": "1.2.0",
          "state": {
            "_model_module": "@jupyter-widgets/base",
            "_model_module_version": "1.2.0",
            "_model_name": "LayoutModel",
            "_view_count": null,
            "_view_module": "@jupyter-widgets/base",
            "_view_module_version": "1.2.0",
            "_view_name": "LayoutView",
            "align_content": null,
            "align_items": null,
            "align_self": null,
            "border": null,
            "bottom": null,
            "display": null,
            "flex": null,
            "flex_flow": null,
            "grid_area": null,
            "grid_auto_columns": null,
            "grid_auto_flow": null,
            "grid_auto_rows": null,
            "grid_column": null,
            "grid_gap": null,
            "grid_row": null,
            "grid_template_areas": null,
            "grid_template_columns": null,
            "grid_template_rows": null,
            "height": null,
            "justify_content": null,
            "justify_items": null,
            "left": null,
            "margin": null,
            "max_height": null,
            "max_width": null,
            "min_height": null,
            "min_width": null,
            "object_fit": null,
            "object_position": null,
            "order": null,
            "overflow": null,
            "overflow_x": null,
            "overflow_y": null,
            "padding": null,
            "right": null,
            "top": null,
            "visibility": null,
            "width": null
          }
        },
        "8c35da286f774a328fe9298ca2596ef9": {
          "model_module": "@jupyter-widgets/controls",
          "model_name": "DescriptionStyleModel",
          "model_module_version": "1.5.0",
          "state": {
            "_model_module": "@jupyter-widgets/controls",
            "_model_module_version": "1.5.0",
            "_model_name": "DescriptionStyleModel",
            "_view_count": null,
            "_view_module": "@jupyter-widgets/base",
            "_view_module_version": "1.2.0",
            "_view_name": "StyleView",
            "description_width": ""
          }
        },
        "70420d9da85c45c4a2c4acd90395d9a3": {
          "model_module": "@jupyter-widgets/base",
          "model_name": "LayoutModel",
          "model_module_version": "1.2.0",
          "state": {
            "_model_module": "@jupyter-widgets/base",
            "_model_module_version": "1.2.0",
            "_model_name": "LayoutModel",
            "_view_count": null,
            "_view_module": "@jupyter-widgets/base",
            "_view_module_version": "1.2.0",
            "_view_name": "LayoutView",
            "align_content": null,
            "align_items": null,
            "align_self": null,
            "border": null,
            "bottom": null,
            "display": null,
            "flex": null,
            "flex_flow": null,
            "grid_area": null,
            "grid_auto_columns": null,
            "grid_auto_flow": null,
            "grid_auto_rows": null,
            "grid_column": null,
            "grid_gap": null,
            "grid_row": null,
            "grid_template_areas": null,
            "grid_template_columns": null,
            "grid_template_rows": null,
            "height": null,
            "justify_content": null,
            "justify_items": null,
            "left": null,
            "margin": null,
            "max_height": null,
            "max_width": null,
            "min_height": null,
            "min_width": null,
            "object_fit": null,
            "object_position": null,
            "order": null,
            "overflow": null,
            "overflow_x": null,
            "overflow_y": null,
            "padding": null,
            "right": null,
            "top": null,
            "visibility": null,
            "width": null
          }
        },
        "7316d4ee13d34302af06d76af72a437b": {
          "model_module": "@jupyter-widgets/controls",
          "model_name": "ProgressStyleModel",
          "model_module_version": "1.5.0",
          "state": {
            "_model_module": "@jupyter-widgets/controls",
            "_model_module_version": "1.5.0",
            "_model_name": "ProgressStyleModel",
            "_view_count": null,
            "_view_module": "@jupyter-widgets/base",
            "_view_module_version": "1.2.0",
            "_view_name": "StyleView",
            "bar_color": null,
            "description_width": ""
          }
        },
        "cfa45caab56744789ddfc52a30203afd": {
          "model_module": "@jupyter-widgets/base",
          "model_name": "LayoutModel",
          "model_module_version": "1.2.0",
          "state": {
            "_model_module": "@jupyter-widgets/base",
            "_model_module_version": "1.2.0",
            "_model_name": "LayoutModel",
            "_view_count": null,
            "_view_module": "@jupyter-widgets/base",
            "_view_module_version": "1.2.0",
            "_view_name": "LayoutView",
            "align_content": null,
            "align_items": null,
            "align_self": null,
            "border": null,
            "bottom": null,
            "display": null,
            "flex": null,
            "flex_flow": null,
            "grid_area": null,
            "grid_auto_columns": null,
            "grid_auto_flow": null,
            "grid_auto_rows": null,
            "grid_column": null,
            "grid_gap": null,
            "grid_row": null,
            "grid_template_areas": null,
            "grid_template_columns": null,
            "grid_template_rows": null,
            "height": null,
            "justify_content": null,
            "justify_items": null,
            "left": null,
            "margin": null,
            "max_height": null,
            "max_width": null,
            "min_height": null,
            "min_width": null,
            "object_fit": null,
            "object_position": null,
            "order": null,
            "overflow": null,
            "overflow_x": null,
            "overflow_y": null,
            "padding": null,
            "right": null,
            "top": null,
            "visibility": null,
            "width": null
          }
        },
        "74916e50232c4e53834421ca70e112d0": {
          "model_module": "@jupyter-widgets/controls",
          "model_name": "DescriptionStyleModel",
          "model_module_version": "1.5.0",
          "state": {
            "_model_module": "@jupyter-widgets/controls",
            "_model_module_version": "1.5.0",
            "_model_name": "DescriptionStyleModel",
            "_view_count": null,
            "_view_module": "@jupyter-widgets/base",
            "_view_module_version": "1.2.0",
            "_view_name": "StyleView",
            "description_width": ""
          }
        },
        "2ea5709bf52c4a1faa6fb52308a5f285": {
          "model_module": "@jupyter-widgets/controls",
          "model_name": "HBoxModel",
          "model_module_version": "1.5.0",
          "state": {
            "_dom_classes": [],
            "_model_module": "@jupyter-widgets/controls",
            "_model_module_version": "1.5.0",
            "_model_name": "HBoxModel",
            "_view_count": null,
            "_view_module": "@jupyter-widgets/controls",
            "_view_module_version": "1.5.0",
            "_view_name": "HBoxView",
            "box_style": "",
            "children": [
              "IPY_MODEL_f5791ec3281f4ecbb16e88f366c6fb4a",
              "IPY_MODEL_968a6c38cb214fbca02fa585a552089c",
              "IPY_MODEL_21cb514d0d554c0a8157888c26a9fdbc"
            ],
            "layout": "IPY_MODEL_1313571bef014488957a20b48f948126"
          }
        },
        "f5791ec3281f4ecbb16e88f366c6fb4a": {
          "model_module": "@jupyter-widgets/controls",
          "model_name": "HTMLModel",
          "model_module_version": "1.5.0",
          "state": {
            "_dom_classes": [],
            "_model_module": "@jupyter-widgets/controls",
            "_model_module_version": "1.5.0",
            "_model_name": "HTMLModel",
            "_view_count": null,
            "_view_module": "@jupyter-widgets/controls",
            "_view_module_version": "1.5.0",
            "_view_name": "HTMLView",
            "description": "",
            "description_tooltip": null,
            "layout": "IPY_MODEL_85da7e51058040ce86a67ed7cf3bb1aa",
            "placeholder": "​",
            "style": "IPY_MODEL_76207b9ee289404aadbb8d38db5a7254",
            "value": "Generating train split: "
          }
        },
        "968a6c38cb214fbca02fa585a552089c": {
          "model_module": "@jupyter-widgets/controls",
          "model_name": "FloatProgressModel",
          "model_module_version": "1.5.0",
          "state": {
            "_dom_classes": [],
            "_model_module": "@jupyter-widgets/controls",
            "_model_module_version": "1.5.0",
            "_model_name": "FloatProgressModel",
            "_view_count": null,
            "_view_module": "@jupyter-widgets/controls",
            "_view_module_version": "1.5.0",
            "_view_name": "ProgressView",
            "bar_style": "success",
            "description": "",
            "description_tooltip": null,
            "layout": "IPY_MODEL_f879066f0a4040f4a063c661f2ff7a38",
            "max": 1,
            "min": 0,
            "orientation": "horizontal",
            "style": "IPY_MODEL_13c66f04e2424b81bbaa767c6d998630",
            "value": 1
          }
        },
        "21cb514d0d554c0a8157888c26a9fdbc": {
          "model_module": "@jupyter-widgets/controls",
          "model_name": "HTMLModel",
          "model_module_version": "1.5.0",
          "state": {
            "_dom_classes": [],
            "_model_module": "@jupyter-widgets/controls",
            "_model_module_version": "1.5.0",
            "_model_name": "HTMLModel",
            "_view_count": null,
            "_view_module": "@jupyter-widgets/controls",
            "_view_module_version": "1.5.0",
            "_view_name": "HTMLView",
            "description": "",
            "description_tooltip": null,
            "layout": "IPY_MODEL_5b576bcff5b8484ea8988486f42adadb",
            "placeholder": "​",
            "style": "IPY_MODEL_ef11c8fa8f59409287ded0f792dad8d0",
            "value": " 81/0 [00:00&lt;00:00, 680.64 examples/s]"
          }
        },
        "1313571bef014488957a20b48f948126": {
          "model_module": "@jupyter-widgets/base",
          "model_name": "LayoutModel",
          "model_module_version": "1.2.0",
          "state": {
            "_model_module": "@jupyter-widgets/base",
            "_model_module_version": "1.2.0",
            "_model_name": "LayoutModel",
            "_view_count": null,
            "_view_module": "@jupyter-widgets/base",
            "_view_module_version": "1.2.0",
            "_view_name": "LayoutView",
            "align_content": null,
            "align_items": null,
            "align_self": null,
            "border": null,
            "bottom": null,
            "display": null,
            "flex": null,
            "flex_flow": null,
            "grid_area": null,
            "grid_auto_columns": null,
            "grid_auto_flow": null,
            "grid_auto_rows": null,
            "grid_column": null,
            "grid_gap": null,
            "grid_row": null,
            "grid_template_areas": null,
            "grid_template_columns": null,
            "grid_template_rows": null,
            "height": null,
            "justify_content": null,
            "justify_items": null,
            "left": null,
            "margin": null,
            "max_height": null,
            "max_width": null,
            "min_height": null,
            "min_width": null,
            "object_fit": null,
            "object_position": null,
            "order": null,
            "overflow": null,
            "overflow_x": null,
            "overflow_y": null,
            "padding": null,
            "right": null,
            "top": null,
            "visibility": null,
            "width": null
          }
        },
        "85da7e51058040ce86a67ed7cf3bb1aa": {
          "model_module": "@jupyter-widgets/base",
          "model_name": "LayoutModel",
          "model_module_version": "1.2.0",
          "state": {
            "_model_module": "@jupyter-widgets/base",
            "_model_module_version": "1.2.0",
            "_model_name": "LayoutModel",
            "_view_count": null,
            "_view_module": "@jupyter-widgets/base",
            "_view_module_version": "1.2.0",
            "_view_name": "LayoutView",
            "align_content": null,
            "align_items": null,
            "align_self": null,
            "border": null,
            "bottom": null,
            "display": null,
            "flex": null,
            "flex_flow": null,
            "grid_area": null,
            "grid_auto_columns": null,
            "grid_auto_flow": null,
            "grid_auto_rows": null,
            "grid_column": null,
            "grid_gap": null,
            "grid_row": null,
            "grid_template_areas": null,
            "grid_template_columns": null,
            "grid_template_rows": null,
            "height": null,
            "justify_content": null,
            "justify_items": null,
            "left": null,
            "margin": null,
            "max_height": null,
            "max_width": null,
            "min_height": null,
            "min_width": null,
            "object_fit": null,
            "object_position": null,
            "order": null,
            "overflow": null,
            "overflow_x": null,
            "overflow_y": null,
            "padding": null,
            "right": null,
            "top": null,
            "visibility": null,
            "width": null
          }
        },
        "76207b9ee289404aadbb8d38db5a7254": {
          "model_module": "@jupyter-widgets/controls",
          "model_name": "DescriptionStyleModel",
          "model_module_version": "1.5.0",
          "state": {
            "_model_module": "@jupyter-widgets/controls",
            "_model_module_version": "1.5.0",
            "_model_name": "DescriptionStyleModel",
            "_view_count": null,
            "_view_module": "@jupyter-widgets/base",
            "_view_module_version": "1.2.0",
            "_view_name": "StyleView",
            "description_width": ""
          }
        },
        "f879066f0a4040f4a063c661f2ff7a38": {
          "model_module": "@jupyter-widgets/base",
          "model_name": "LayoutModel",
          "model_module_version": "1.2.0",
          "state": {
            "_model_module": "@jupyter-widgets/base",
            "_model_module_version": "1.2.0",
            "_model_name": "LayoutModel",
            "_view_count": null,
            "_view_module": "@jupyter-widgets/base",
            "_view_module_version": "1.2.0",
            "_view_name": "LayoutView",
            "align_content": null,
            "align_items": null,
            "align_self": null,
            "border": null,
            "bottom": null,
            "display": null,
            "flex": null,
            "flex_flow": null,
            "grid_area": null,
            "grid_auto_columns": null,
            "grid_auto_flow": null,
            "grid_auto_rows": null,
            "grid_column": null,
            "grid_gap": null,
            "grid_row": null,
            "grid_template_areas": null,
            "grid_template_columns": null,
            "grid_template_rows": null,
            "height": null,
            "justify_content": null,
            "justify_items": null,
            "left": null,
            "margin": null,
            "max_height": null,
            "max_width": null,
            "min_height": null,
            "min_width": null,
            "object_fit": null,
            "object_position": null,
            "order": null,
            "overflow": null,
            "overflow_x": null,
            "overflow_y": null,
            "padding": null,
            "right": null,
            "top": null,
            "visibility": null,
            "width": "20px"
          }
        },
        "13c66f04e2424b81bbaa767c6d998630": {
          "model_module": "@jupyter-widgets/controls",
          "model_name": "ProgressStyleModel",
          "model_module_version": "1.5.0",
          "state": {
            "_model_module": "@jupyter-widgets/controls",
            "_model_module_version": "1.5.0",
            "_model_name": "ProgressStyleModel",
            "_view_count": null,
            "_view_module": "@jupyter-widgets/base",
            "_view_module_version": "1.2.0",
            "_view_name": "StyleView",
            "bar_color": null,
            "description_width": ""
          }
        },
        "5b576bcff5b8484ea8988486f42adadb": {
          "model_module": "@jupyter-widgets/base",
          "model_name": "LayoutModel",
          "model_module_version": "1.2.0",
          "state": {
            "_model_module": "@jupyter-widgets/base",
            "_model_module_version": "1.2.0",
            "_model_name": "LayoutModel",
            "_view_count": null,
            "_view_module": "@jupyter-widgets/base",
            "_view_module_version": "1.2.0",
            "_view_name": "LayoutView",
            "align_content": null,
            "align_items": null,
            "align_self": null,
            "border": null,
            "bottom": null,
            "display": null,
            "flex": null,
            "flex_flow": null,
            "grid_area": null,
            "grid_auto_columns": null,
            "grid_auto_flow": null,
            "grid_auto_rows": null,
            "grid_column": null,
            "grid_gap": null,
            "grid_row": null,
            "grid_template_areas": null,
            "grid_template_columns": null,
            "grid_template_rows": null,
            "height": null,
            "justify_content": null,
            "justify_items": null,
            "left": null,
            "margin": null,
            "max_height": null,
            "max_width": null,
            "min_height": null,
            "min_width": null,
            "object_fit": null,
            "object_position": null,
            "order": null,
            "overflow": null,
            "overflow_x": null,
            "overflow_y": null,
            "padding": null,
            "right": null,
            "top": null,
            "visibility": null,
            "width": null
          }
        },
        "ef11c8fa8f59409287ded0f792dad8d0": {
          "model_module": "@jupyter-widgets/controls",
          "model_name": "DescriptionStyleModel",
          "model_module_version": "1.5.0",
          "state": {
            "_model_module": "@jupyter-widgets/controls",
            "_model_module_version": "1.5.0",
            "_model_name": "DescriptionStyleModel",
            "_view_count": null,
            "_view_module": "@jupyter-widgets/base",
            "_view_module_version": "1.2.0",
            "_view_name": "StyleView",
            "description_width": ""
          }
        },
        "6031035494a846bb8d9308f1afe6c97e": {
          "model_module": "@jupyter-widgets/controls",
          "model_name": "HBoxModel",
          "model_module_version": "1.5.0",
          "state": {
            "_dom_classes": [],
            "_model_module": "@jupyter-widgets/controls",
            "_model_module_version": "1.5.0",
            "_model_name": "HBoxModel",
            "_view_count": null,
            "_view_module": "@jupyter-widgets/controls",
            "_view_module_version": "1.5.0",
            "_view_name": "HBoxView",
            "box_style": "",
            "children": [
              "IPY_MODEL_10fcef0e89204be7bbfe1a8a6b2f40dc",
              "IPY_MODEL_7ec6d6951b094ede8f5107b61b79a705",
              "IPY_MODEL_7ac9ca76734747238978be3c261a0216"
            ],
            "layout": "IPY_MODEL_f81837e3df334086816bf3d814b1ba97"
          }
        },
        "10fcef0e89204be7bbfe1a8a6b2f40dc": {
          "model_module": "@jupyter-widgets/controls",
          "model_name": "HTMLModel",
          "model_module_version": "1.5.0",
          "state": {
            "_dom_classes": [],
            "_model_module": "@jupyter-widgets/controls",
            "_model_module_version": "1.5.0",
            "_model_name": "HTMLModel",
            "_view_count": null,
            "_view_module": "@jupyter-widgets/controls",
            "_view_module_version": "1.5.0",
            "_view_name": "HTMLView",
            "description": "",
            "description_tooltip": null,
            "layout": "IPY_MODEL_c1a82bac791a4a5ca335497fedba9375",
            "placeholder": "​",
            "style": "IPY_MODEL_da0bf723ca1245ca8f7a70398a4bdee2",
            "value": "Generating train split: "
          }
        },
        "7ec6d6951b094ede8f5107b61b79a705": {
          "model_module": "@jupyter-widgets/controls",
          "model_name": "FloatProgressModel",
          "model_module_version": "1.5.0",
          "state": {
            "_dom_classes": [],
            "_model_module": "@jupyter-widgets/controls",
            "_model_module_version": "1.5.0",
            "_model_name": "FloatProgressModel",
            "_view_count": null,
            "_view_module": "@jupyter-widgets/controls",
            "_view_module_version": "1.5.0",
            "_view_name": "ProgressView",
            "bar_style": "success",
            "description": "",
            "description_tooltip": null,
            "layout": "IPY_MODEL_59674f1baa794f1e945482c8ca1b051c",
            "max": 1,
            "min": 0,
            "orientation": "horizontal",
            "style": "IPY_MODEL_91b3e25fbb9a4023a28be34400eaf962",
            "value": 1
          }
        },
        "7ac9ca76734747238978be3c261a0216": {
          "model_module": "@jupyter-widgets/controls",
          "model_name": "HTMLModel",
          "model_module_version": "1.5.0",
          "state": {
            "_dom_classes": [],
            "_model_module": "@jupyter-widgets/controls",
            "_model_module_version": "1.5.0",
            "_model_name": "HTMLModel",
            "_view_count": null,
            "_view_module": "@jupyter-widgets/controls",
            "_view_module_version": "1.5.0",
            "_view_name": "HTMLView",
            "description": "",
            "description_tooltip": null,
            "layout": "IPY_MODEL_2daed82ce795429c9302aabed34bc681",
            "placeholder": "​",
            "style": "IPY_MODEL_8786c2302ac646d3a4b14a1d04c19ce3",
            "value": " 19/0 [00:00&lt;00:00, 437.98 examples/s]"
          }
        },
        "f81837e3df334086816bf3d814b1ba97": {
          "model_module": "@jupyter-widgets/base",
          "model_name": "LayoutModel",
          "model_module_version": "1.2.0",
          "state": {
            "_model_module": "@jupyter-widgets/base",
            "_model_module_version": "1.2.0",
            "_model_name": "LayoutModel",
            "_view_count": null,
            "_view_module": "@jupyter-widgets/base",
            "_view_module_version": "1.2.0",
            "_view_name": "LayoutView",
            "align_content": null,
            "align_items": null,
            "align_self": null,
            "border": null,
            "bottom": null,
            "display": null,
            "flex": null,
            "flex_flow": null,
            "grid_area": null,
            "grid_auto_columns": null,
            "grid_auto_flow": null,
            "grid_auto_rows": null,
            "grid_column": null,
            "grid_gap": null,
            "grid_row": null,
            "grid_template_areas": null,
            "grid_template_columns": null,
            "grid_template_rows": null,
            "height": null,
            "justify_content": null,
            "justify_items": null,
            "left": null,
            "margin": null,
            "max_height": null,
            "max_width": null,
            "min_height": null,
            "min_width": null,
            "object_fit": null,
            "object_position": null,
            "order": null,
            "overflow": null,
            "overflow_x": null,
            "overflow_y": null,
            "padding": null,
            "right": null,
            "top": null,
            "visibility": null,
            "width": null
          }
        },
        "c1a82bac791a4a5ca335497fedba9375": {
          "model_module": "@jupyter-widgets/base",
          "model_name": "LayoutModel",
          "model_module_version": "1.2.0",
          "state": {
            "_model_module": "@jupyter-widgets/base",
            "_model_module_version": "1.2.0",
            "_model_name": "LayoutModel",
            "_view_count": null,
            "_view_module": "@jupyter-widgets/base",
            "_view_module_version": "1.2.0",
            "_view_name": "LayoutView",
            "align_content": null,
            "align_items": null,
            "align_self": null,
            "border": null,
            "bottom": null,
            "display": null,
            "flex": null,
            "flex_flow": null,
            "grid_area": null,
            "grid_auto_columns": null,
            "grid_auto_flow": null,
            "grid_auto_rows": null,
            "grid_column": null,
            "grid_gap": null,
            "grid_row": null,
            "grid_template_areas": null,
            "grid_template_columns": null,
            "grid_template_rows": null,
            "height": null,
            "justify_content": null,
            "justify_items": null,
            "left": null,
            "margin": null,
            "max_height": null,
            "max_width": null,
            "min_height": null,
            "min_width": null,
            "object_fit": null,
            "object_position": null,
            "order": null,
            "overflow": null,
            "overflow_x": null,
            "overflow_y": null,
            "padding": null,
            "right": null,
            "top": null,
            "visibility": null,
            "width": null
          }
        },
        "da0bf723ca1245ca8f7a70398a4bdee2": {
          "model_module": "@jupyter-widgets/controls",
          "model_name": "DescriptionStyleModel",
          "model_module_version": "1.5.0",
          "state": {
            "_model_module": "@jupyter-widgets/controls",
            "_model_module_version": "1.5.0",
            "_model_name": "DescriptionStyleModel",
            "_view_count": null,
            "_view_module": "@jupyter-widgets/base",
            "_view_module_version": "1.2.0",
            "_view_name": "StyleView",
            "description_width": ""
          }
        },
        "59674f1baa794f1e945482c8ca1b051c": {
          "model_module": "@jupyter-widgets/base",
          "model_name": "LayoutModel",
          "model_module_version": "1.2.0",
          "state": {
            "_model_module": "@jupyter-widgets/base",
            "_model_module_version": "1.2.0",
            "_model_name": "LayoutModel",
            "_view_count": null,
            "_view_module": "@jupyter-widgets/base",
            "_view_module_version": "1.2.0",
            "_view_name": "LayoutView",
            "align_content": null,
            "align_items": null,
            "align_self": null,
            "border": null,
            "bottom": null,
            "display": null,
            "flex": null,
            "flex_flow": null,
            "grid_area": null,
            "grid_auto_columns": null,
            "grid_auto_flow": null,
            "grid_auto_rows": null,
            "grid_column": null,
            "grid_gap": null,
            "grid_row": null,
            "grid_template_areas": null,
            "grid_template_columns": null,
            "grid_template_rows": null,
            "height": null,
            "justify_content": null,
            "justify_items": null,
            "left": null,
            "margin": null,
            "max_height": null,
            "max_width": null,
            "min_height": null,
            "min_width": null,
            "object_fit": null,
            "object_position": null,
            "order": null,
            "overflow": null,
            "overflow_x": null,
            "overflow_y": null,
            "padding": null,
            "right": null,
            "top": null,
            "visibility": null,
            "width": "20px"
          }
        },
        "91b3e25fbb9a4023a28be34400eaf962": {
          "model_module": "@jupyter-widgets/controls",
          "model_name": "ProgressStyleModel",
          "model_module_version": "1.5.0",
          "state": {
            "_model_module": "@jupyter-widgets/controls",
            "_model_module_version": "1.5.0",
            "_model_name": "ProgressStyleModel",
            "_view_count": null,
            "_view_module": "@jupyter-widgets/base",
            "_view_module_version": "1.2.0",
            "_view_name": "StyleView",
            "bar_color": null,
            "description_width": ""
          }
        },
        "2daed82ce795429c9302aabed34bc681": {
          "model_module": "@jupyter-widgets/base",
          "model_name": "LayoutModel",
          "model_module_version": "1.2.0",
          "state": {
            "_model_module": "@jupyter-widgets/base",
            "_model_module_version": "1.2.0",
            "_model_name": "LayoutModel",
            "_view_count": null,
            "_view_module": "@jupyter-widgets/base",
            "_view_module_version": "1.2.0",
            "_view_name": "LayoutView",
            "align_content": null,
            "align_items": null,
            "align_self": null,
            "border": null,
            "bottom": null,
            "display": null,
            "flex": null,
            "flex_flow": null,
            "grid_area": null,
            "grid_auto_columns": null,
            "grid_auto_flow": null,
            "grid_auto_rows": null,
            "grid_column": null,
            "grid_gap": null,
            "grid_row": null,
            "grid_template_areas": null,
            "grid_template_columns": null,
            "grid_template_rows": null,
            "height": null,
            "justify_content": null,
            "justify_items": null,
            "left": null,
            "margin": null,
            "max_height": null,
            "max_width": null,
            "min_height": null,
            "min_width": null,
            "object_fit": null,
            "object_position": null,
            "order": null,
            "overflow": null,
            "overflow_x": null,
            "overflow_y": null,
            "padding": null,
            "right": null,
            "top": null,
            "visibility": null,
            "width": null
          }
        },
        "8786c2302ac646d3a4b14a1d04c19ce3": {
          "model_module": "@jupyter-widgets/controls",
          "model_name": "DescriptionStyleModel",
          "model_module_version": "1.5.0",
          "state": {
            "_model_module": "@jupyter-widgets/controls",
            "_model_module_version": "1.5.0",
            "_model_name": "DescriptionStyleModel",
            "_view_count": null,
            "_view_module": "@jupyter-widgets/base",
            "_view_module_version": "1.2.0",
            "_view_name": "StyleView",
            "description_width": ""
          }
        },
        "0e84458360f3445883271bba12f508b0": {
          "model_module": "@jupyter-widgets/controls",
          "model_name": "HBoxModel",
          "model_module_version": "1.5.0",
          "state": {
            "_dom_classes": [],
            "_model_module": "@jupyter-widgets/controls",
            "_model_module_version": "1.5.0",
            "_model_name": "HBoxModel",
            "_view_count": null,
            "_view_module": "@jupyter-widgets/controls",
            "_view_module_version": "1.5.0",
            "_view_name": "HBoxView",
            "box_style": "",
            "children": [
              "IPY_MODEL_6c8584b1eeea4a0c8eac7d619dff6367",
              "IPY_MODEL_711328364ec84ff5a78854d13c9c4568",
              "IPY_MODEL_8e2ac00e2ce0477faa91dd7fa41ed3ee"
            ],
            "layout": "IPY_MODEL_a8cb7f1d2d834ca2a600f81aeeee7b07"
          }
        },
        "6c8584b1eeea4a0c8eac7d619dff6367": {
          "model_module": "@jupyter-widgets/controls",
          "model_name": "HTMLModel",
          "model_module_version": "1.5.0",
          "state": {
            "_dom_classes": [],
            "_model_module": "@jupyter-widgets/controls",
            "_model_module_version": "1.5.0",
            "_model_name": "HTMLModel",
            "_view_count": null,
            "_view_module": "@jupyter-widgets/controls",
            "_view_module_version": "1.5.0",
            "_view_name": "HTMLView",
            "description": "",
            "description_tooltip": null,
            "layout": "IPY_MODEL_345d9305b9214b00ba2aded803984de8",
            "placeholder": "​",
            "style": "IPY_MODEL_b4f07a81e3a342eabcb98af18a27a963",
            "value": "Map: 100%"
          }
        },
        "711328364ec84ff5a78854d13c9c4568": {
          "model_module": "@jupyter-widgets/controls",
          "model_name": "FloatProgressModel",
          "model_module_version": "1.5.0",
          "state": {
            "_dom_classes": [],
            "_model_module": "@jupyter-widgets/controls",
            "_model_module_version": "1.5.0",
            "_model_name": "FloatProgressModel",
            "_view_count": null,
            "_view_module": "@jupyter-widgets/controls",
            "_view_module_version": "1.5.0",
            "_view_name": "ProgressView",
            "bar_style": "success",
            "description": "",
            "description_tooltip": null,
            "layout": "IPY_MODEL_b9bef904460043bcb33b046f908fd731",
            "max": 81,
            "min": 0,
            "orientation": "horizontal",
            "style": "IPY_MODEL_19d371ad3ac04e4890eded476bab83d4",
            "value": 81
          }
        },
        "8e2ac00e2ce0477faa91dd7fa41ed3ee": {
          "model_module": "@jupyter-widgets/controls",
          "model_name": "HTMLModel",
          "model_module_version": "1.5.0",
          "state": {
            "_dom_classes": [],
            "_model_module": "@jupyter-widgets/controls",
            "_model_module_version": "1.5.0",
            "_model_name": "HTMLModel",
            "_view_count": null,
            "_view_module": "@jupyter-widgets/controls",
            "_view_module_version": "1.5.0",
            "_view_name": "HTMLView",
            "description": "",
            "description_tooltip": null,
            "layout": "IPY_MODEL_910bb4cb5adc43d0b710ae63eb598887",
            "placeholder": "​",
            "style": "IPY_MODEL_e3a4c7c837e84c9595a1a16915851d42",
            "value": " 81/81 [00:00&lt;00:00, 434.65 examples/s]"
          }
        },
        "a8cb7f1d2d834ca2a600f81aeeee7b07": {
          "model_module": "@jupyter-widgets/base",
          "model_name": "LayoutModel",
          "model_module_version": "1.2.0",
          "state": {
            "_model_module": "@jupyter-widgets/base",
            "_model_module_version": "1.2.0",
            "_model_name": "LayoutModel",
            "_view_count": null,
            "_view_module": "@jupyter-widgets/base",
            "_view_module_version": "1.2.0",
            "_view_name": "LayoutView",
            "align_content": null,
            "align_items": null,
            "align_self": null,
            "border": null,
            "bottom": null,
            "display": null,
            "flex": null,
            "flex_flow": null,
            "grid_area": null,
            "grid_auto_columns": null,
            "grid_auto_flow": null,
            "grid_auto_rows": null,
            "grid_column": null,
            "grid_gap": null,
            "grid_row": null,
            "grid_template_areas": null,
            "grid_template_columns": null,
            "grid_template_rows": null,
            "height": null,
            "justify_content": null,
            "justify_items": null,
            "left": null,
            "margin": null,
            "max_height": null,
            "max_width": null,
            "min_height": null,
            "min_width": null,
            "object_fit": null,
            "object_position": null,
            "order": null,
            "overflow": null,
            "overflow_x": null,
            "overflow_y": null,
            "padding": null,
            "right": null,
            "top": null,
            "visibility": null,
            "width": null
          }
        },
        "345d9305b9214b00ba2aded803984de8": {
          "model_module": "@jupyter-widgets/base",
          "model_name": "LayoutModel",
          "model_module_version": "1.2.0",
          "state": {
            "_model_module": "@jupyter-widgets/base",
            "_model_module_version": "1.2.0",
            "_model_name": "LayoutModel",
            "_view_count": null,
            "_view_module": "@jupyter-widgets/base",
            "_view_module_version": "1.2.0",
            "_view_name": "LayoutView",
            "align_content": null,
            "align_items": null,
            "align_self": null,
            "border": null,
            "bottom": null,
            "display": null,
            "flex": null,
            "flex_flow": null,
            "grid_area": null,
            "grid_auto_columns": null,
            "grid_auto_flow": null,
            "grid_auto_rows": null,
            "grid_column": null,
            "grid_gap": null,
            "grid_row": null,
            "grid_template_areas": null,
            "grid_template_columns": null,
            "grid_template_rows": null,
            "height": null,
            "justify_content": null,
            "justify_items": null,
            "left": null,
            "margin": null,
            "max_height": null,
            "max_width": null,
            "min_height": null,
            "min_width": null,
            "object_fit": null,
            "object_position": null,
            "order": null,
            "overflow": null,
            "overflow_x": null,
            "overflow_y": null,
            "padding": null,
            "right": null,
            "top": null,
            "visibility": null,
            "width": null
          }
        },
        "b4f07a81e3a342eabcb98af18a27a963": {
          "model_module": "@jupyter-widgets/controls",
          "model_name": "DescriptionStyleModel",
          "model_module_version": "1.5.0",
          "state": {
            "_model_module": "@jupyter-widgets/controls",
            "_model_module_version": "1.5.0",
            "_model_name": "DescriptionStyleModel",
            "_view_count": null,
            "_view_module": "@jupyter-widgets/base",
            "_view_module_version": "1.2.0",
            "_view_name": "StyleView",
            "description_width": ""
          }
        },
        "b9bef904460043bcb33b046f908fd731": {
          "model_module": "@jupyter-widgets/base",
          "model_name": "LayoutModel",
          "model_module_version": "1.2.0",
          "state": {
            "_model_module": "@jupyter-widgets/base",
            "_model_module_version": "1.2.0",
            "_model_name": "LayoutModel",
            "_view_count": null,
            "_view_module": "@jupyter-widgets/base",
            "_view_module_version": "1.2.0",
            "_view_name": "LayoutView",
            "align_content": null,
            "align_items": null,
            "align_self": null,
            "border": null,
            "bottom": null,
            "display": null,
            "flex": null,
            "flex_flow": null,
            "grid_area": null,
            "grid_auto_columns": null,
            "grid_auto_flow": null,
            "grid_auto_rows": null,
            "grid_column": null,
            "grid_gap": null,
            "grid_row": null,
            "grid_template_areas": null,
            "grid_template_columns": null,
            "grid_template_rows": null,
            "height": null,
            "justify_content": null,
            "justify_items": null,
            "left": null,
            "margin": null,
            "max_height": null,
            "max_width": null,
            "min_height": null,
            "min_width": null,
            "object_fit": null,
            "object_position": null,
            "order": null,
            "overflow": null,
            "overflow_x": null,
            "overflow_y": null,
            "padding": null,
            "right": null,
            "top": null,
            "visibility": null,
            "width": null
          }
        },
        "19d371ad3ac04e4890eded476bab83d4": {
          "model_module": "@jupyter-widgets/controls",
          "model_name": "ProgressStyleModel",
          "model_module_version": "1.5.0",
          "state": {
            "_model_module": "@jupyter-widgets/controls",
            "_model_module_version": "1.5.0",
            "_model_name": "ProgressStyleModel",
            "_view_count": null,
            "_view_module": "@jupyter-widgets/base",
            "_view_module_version": "1.2.0",
            "_view_name": "StyleView",
            "bar_color": null,
            "description_width": ""
          }
        },
        "910bb4cb5adc43d0b710ae63eb598887": {
          "model_module": "@jupyter-widgets/base",
          "model_name": "LayoutModel",
          "model_module_version": "1.2.0",
          "state": {
            "_model_module": "@jupyter-widgets/base",
            "_model_module_version": "1.2.0",
            "_model_name": "LayoutModel",
            "_view_count": null,
            "_view_module": "@jupyter-widgets/base",
            "_view_module_version": "1.2.0",
            "_view_name": "LayoutView",
            "align_content": null,
            "align_items": null,
            "align_self": null,
            "border": null,
            "bottom": null,
            "display": null,
            "flex": null,
            "flex_flow": null,
            "grid_area": null,
            "grid_auto_columns": null,
            "grid_auto_flow": null,
            "grid_auto_rows": null,
            "grid_column": null,
            "grid_gap": null,
            "grid_row": null,
            "grid_template_areas": null,
            "grid_template_columns": null,
            "grid_template_rows": null,
            "height": null,
            "justify_content": null,
            "justify_items": null,
            "left": null,
            "margin": null,
            "max_height": null,
            "max_width": null,
            "min_height": null,
            "min_width": null,
            "object_fit": null,
            "object_position": null,
            "order": null,
            "overflow": null,
            "overflow_x": null,
            "overflow_y": null,
            "padding": null,
            "right": null,
            "top": null,
            "visibility": null,
            "width": null
          }
        },
        "e3a4c7c837e84c9595a1a16915851d42": {
          "model_module": "@jupyter-widgets/controls",
          "model_name": "DescriptionStyleModel",
          "model_module_version": "1.5.0",
          "state": {
            "_model_module": "@jupyter-widgets/controls",
            "_model_module_version": "1.5.0",
            "_model_name": "DescriptionStyleModel",
            "_view_count": null,
            "_view_module": "@jupyter-widgets/base",
            "_view_module_version": "1.2.0",
            "_view_name": "StyleView",
            "description_width": ""
          }
        },
        "e3586c0fd49946c4950f11d7b4c8d605": {
          "model_module": "@jupyter-widgets/controls",
          "model_name": "HBoxModel",
          "model_module_version": "1.5.0",
          "state": {
            "_dom_classes": [],
            "_model_module": "@jupyter-widgets/controls",
            "_model_module_version": "1.5.0",
            "_model_name": "HBoxModel",
            "_view_count": null,
            "_view_module": "@jupyter-widgets/controls",
            "_view_module_version": "1.5.0",
            "_view_name": "HBoxView",
            "box_style": "",
            "children": [
              "IPY_MODEL_f9df839ff4ce498a961f052440720a23",
              "IPY_MODEL_3cf83191d6e5453eaabdd4d52c5a2c82",
              "IPY_MODEL_5b476db462174847b8df42b2e4090be5"
            ],
            "layout": "IPY_MODEL_b6a6d50a186b49a9a8df5247c5a1daff"
          }
        },
        "f9df839ff4ce498a961f052440720a23": {
          "model_module": "@jupyter-widgets/controls",
          "model_name": "HTMLModel",
          "model_module_version": "1.5.0",
          "state": {
            "_dom_classes": [],
            "_model_module": "@jupyter-widgets/controls",
            "_model_module_version": "1.5.0",
            "_model_name": "HTMLModel",
            "_view_count": null,
            "_view_module": "@jupyter-widgets/controls",
            "_view_module_version": "1.5.0",
            "_view_name": "HTMLView",
            "description": "",
            "description_tooltip": null,
            "layout": "IPY_MODEL_9c830d16649644d5ac8922a98aba9ad5",
            "placeholder": "​",
            "style": "IPY_MODEL_776947024cdc4fcaa4f737ea2acbf0a1",
            "value": "Map: 100%"
          }
        },
        "3cf83191d6e5453eaabdd4d52c5a2c82": {
          "model_module": "@jupyter-widgets/controls",
          "model_name": "FloatProgressModel",
          "model_module_version": "1.5.0",
          "state": {
            "_dom_classes": [],
            "_model_module": "@jupyter-widgets/controls",
            "_model_module_version": "1.5.0",
            "_model_name": "FloatProgressModel",
            "_view_count": null,
            "_view_module": "@jupyter-widgets/controls",
            "_view_module_version": "1.5.0",
            "_view_name": "ProgressView",
            "bar_style": "success",
            "description": "",
            "description_tooltip": null,
            "layout": "IPY_MODEL_f909f312161c41ac9ad07498384e7779",
            "max": 19,
            "min": 0,
            "orientation": "horizontal",
            "style": "IPY_MODEL_54c9339d2eaf4d58a4b51bedd19fa913",
            "value": 19
          }
        },
        "5b476db462174847b8df42b2e4090be5": {
          "model_module": "@jupyter-widgets/controls",
          "model_name": "HTMLModel",
          "model_module_version": "1.5.0",
          "state": {
            "_dom_classes": [],
            "_model_module": "@jupyter-widgets/controls",
            "_model_module_version": "1.5.0",
            "_model_name": "HTMLModel",
            "_view_count": null,
            "_view_module": "@jupyter-widgets/controls",
            "_view_module_version": "1.5.0",
            "_view_name": "HTMLView",
            "description": "",
            "description_tooltip": null,
            "layout": "IPY_MODEL_f219432b046b4025aa126e703be4b35a",
            "placeholder": "​",
            "style": "IPY_MODEL_b2263436fd65462b940d9376e733c65b",
            "value": " 19/19 [00:00&lt;00:00, 226.48 examples/s]"
          }
        },
        "b6a6d50a186b49a9a8df5247c5a1daff": {
          "model_module": "@jupyter-widgets/base",
          "model_name": "LayoutModel",
          "model_module_version": "1.2.0",
          "state": {
            "_model_module": "@jupyter-widgets/base",
            "_model_module_version": "1.2.0",
            "_model_name": "LayoutModel",
            "_view_count": null,
            "_view_module": "@jupyter-widgets/base",
            "_view_module_version": "1.2.0",
            "_view_name": "LayoutView",
            "align_content": null,
            "align_items": null,
            "align_self": null,
            "border": null,
            "bottom": null,
            "display": null,
            "flex": null,
            "flex_flow": null,
            "grid_area": null,
            "grid_auto_columns": null,
            "grid_auto_flow": null,
            "grid_auto_rows": null,
            "grid_column": null,
            "grid_gap": null,
            "grid_row": null,
            "grid_template_areas": null,
            "grid_template_columns": null,
            "grid_template_rows": null,
            "height": null,
            "justify_content": null,
            "justify_items": null,
            "left": null,
            "margin": null,
            "max_height": null,
            "max_width": null,
            "min_height": null,
            "min_width": null,
            "object_fit": null,
            "object_position": null,
            "order": null,
            "overflow": null,
            "overflow_x": null,
            "overflow_y": null,
            "padding": null,
            "right": null,
            "top": null,
            "visibility": null,
            "width": null
          }
        },
        "9c830d16649644d5ac8922a98aba9ad5": {
          "model_module": "@jupyter-widgets/base",
          "model_name": "LayoutModel",
          "model_module_version": "1.2.0",
          "state": {
            "_model_module": "@jupyter-widgets/base",
            "_model_module_version": "1.2.0",
            "_model_name": "LayoutModel",
            "_view_count": null,
            "_view_module": "@jupyter-widgets/base",
            "_view_module_version": "1.2.0",
            "_view_name": "LayoutView",
            "align_content": null,
            "align_items": null,
            "align_self": null,
            "border": null,
            "bottom": null,
            "display": null,
            "flex": null,
            "flex_flow": null,
            "grid_area": null,
            "grid_auto_columns": null,
            "grid_auto_flow": null,
            "grid_auto_rows": null,
            "grid_column": null,
            "grid_gap": null,
            "grid_row": null,
            "grid_template_areas": null,
            "grid_template_columns": null,
            "grid_template_rows": null,
            "height": null,
            "justify_content": null,
            "justify_items": null,
            "left": null,
            "margin": null,
            "max_height": null,
            "max_width": null,
            "min_height": null,
            "min_width": null,
            "object_fit": null,
            "object_position": null,
            "order": null,
            "overflow": null,
            "overflow_x": null,
            "overflow_y": null,
            "padding": null,
            "right": null,
            "top": null,
            "visibility": null,
            "width": null
          }
        },
        "776947024cdc4fcaa4f737ea2acbf0a1": {
          "model_module": "@jupyter-widgets/controls",
          "model_name": "DescriptionStyleModel",
          "model_module_version": "1.5.0",
          "state": {
            "_model_module": "@jupyter-widgets/controls",
            "_model_module_version": "1.5.0",
            "_model_name": "DescriptionStyleModel",
            "_view_count": null,
            "_view_module": "@jupyter-widgets/base",
            "_view_module_version": "1.2.0",
            "_view_name": "StyleView",
            "description_width": ""
          }
        },
        "f909f312161c41ac9ad07498384e7779": {
          "model_module": "@jupyter-widgets/base",
          "model_name": "LayoutModel",
          "model_module_version": "1.2.0",
          "state": {
            "_model_module": "@jupyter-widgets/base",
            "_model_module_version": "1.2.0",
            "_model_name": "LayoutModel",
            "_view_count": null,
            "_view_module": "@jupyter-widgets/base",
            "_view_module_version": "1.2.0",
            "_view_name": "LayoutView",
            "align_content": null,
            "align_items": null,
            "align_self": null,
            "border": null,
            "bottom": null,
            "display": null,
            "flex": null,
            "flex_flow": null,
            "grid_area": null,
            "grid_auto_columns": null,
            "grid_auto_flow": null,
            "grid_auto_rows": null,
            "grid_column": null,
            "grid_gap": null,
            "grid_row": null,
            "grid_template_areas": null,
            "grid_template_columns": null,
            "grid_template_rows": null,
            "height": null,
            "justify_content": null,
            "justify_items": null,
            "left": null,
            "margin": null,
            "max_height": null,
            "max_width": null,
            "min_height": null,
            "min_width": null,
            "object_fit": null,
            "object_position": null,
            "order": null,
            "overflow": null,
            "overflow_x": null,
            "overflow_y": null,
            "padding": null,
            "right": null,
            "top": null,
            "visibility": null,
            "width": null
          }
        },
        "54c9339d2eaf4d58a4b51bedd19fa913": {
          "model_module": "@jupyter-widgets/controls",
          "model_name": "ProgressStyleModel",
          "model_module_version": "1.5.0",
          "state": {
            "_model_module": "@jupyter-widgets/controls",
            "_model_module_version": "1.5.0",
            "_model_name": "ProgressStyleModel",
            "_view_count": null,
            "_view_module": "@jupyter-widgets/base",
            "_view_module_version": "1.2.0",
            "_view_name": "StyleView",
            "bar_color": null,
            "description_width": ""
          }
        },
        "f219432b046b4025aa126e703be4b35a": {
          "model_module": "@jupyter-widgets/base",
          "model_name": "LayoutModel",
          "model_module_version": "1.2.0",
          "state": {
            "_model_module": "@jupyter-widgets/base",
            "_model_module_version": "1.2.0",
            "_model_name": "LayoutModel",
            "_view_count": null,
            "_view_module": "@jupyter-widgets/base",
            "_view_module_version": "1.2.0",
            "_view_name": "LayoutView",
            "align_content": null,
            "align_items": null,
            "align_self": null,
            "border": null,
            "bottom": null,
            "display": null,
            "flex": null,
            "flex_flow": null,
            "grid_area": null,
            "grid_auto_columns": null,
            "grid_auto_flow": null,
            "grid_auto_rows": null,
            "grid_column": null,
            "grid_gap": null,
            "grid_row": null,
            "grid_template_areas": null,
            "grid_template_columns": null,
            "grid_template_rows": null,
            "height": null,
            "justify_content": null,
            "justify_items": null,
            "left": null,
            "margin": null,
            "max_height": null,
            "max_width": null,
            "min_height": null,
            "min_width": null,
            "object_fit": null,
            "object_position": null,
            "order": null,
            "overflow": null,
            "overflow_x": null,
            "overflow_y": null,
            "padding": null,
            "right": null,
            "top": null,
            "visibility": null,
            "width": null
          }
        },
        "b2263436fd65462b940d9376e733c65b": {
          "model_module": "@jupyter-widgets/controls",
          "model_name": "DescriptionStyleModel",
          "model_module_version": "1.5.0",
          "state": {
            "_model_module": "@jupyter-widgets/controls",
            "_model_module_version": "1.5.0",
            "_model_name": "DescriptionStyleModel",
            "_view_count": null,
            "_view_module": "@jupyter-widgets/base",
            "_view_module_version": "1.2.0",
            "_view_name": "StyleView",
            "description_width": ""
          }
        },
        "03a0303fb92e4300bfc045f4415d2a42": {
          "model_module": "@jupyter-widgets/controls",
          "model_name": "HBoxModel",
          "model_module_version": "1.5.0",
          "state": {
            "_dom_classes": [],
            "_model_module": "@jupyter-widgets/controls",
            "_model_module_version": "1.5.0",
            "_model_name": "HBoxModel",
            "_view_count": null,
            "_view_module": "@jupyter-widgets/controls",
            "_view_module_version": "1.5.0",
            "_view_name": "HBoxView",
            "box_style": "",
            "children": [
              "IPY_MODEL_fd795eaff1814ead936f2ef84cfe9c59",
              "IPY_MODEL_143ec40e923e4941a1afe67b901f56c2",
              "IPY_MODEL_4cb195cf708241308a6623cb35366ced"
            ],
            "layout": "IPY_MODEL_b9e6365d1bf843b6a865462687d7e674"
          }
        },
        "fd795eaff1814ead936f2ef84cfe9c59": {
          "model_module": "@jupyter-widgets/controls",
          "model_name": "HTMLModel",
          "model_module_version": "1.5.0",
          "state": {
            "_dom_classes": [],
            "_model_module": "@jupyter-widgets/controls",
            "_model_module_version": "1.5.0",
            "_model_name": "HTMLModel",
            "_view_count": null,
            "_view_module": "@jupyter-widgets/controls",
            "_view_module_version": "1.5.0",
            "_view_name": "HTMLView",
            "description": "",
            "description_tooltip": null,
            "layout": "IPY_MODEL_3b93114cad6442eaba8a4328e876ce26",
            "placeholder": "​",
            "style": "IPY_MODEL_18a90a44d422477382318147985e887d",
            "value": "Loading checkpoint shards:  50%"
          }
        },
        "143ec40e923e4941a1afe67b901f56c2": {
          "model_module": "@jupyter-widgets/controls",
          "model_name": "FloatProgressModel",
          "model_module_version": "1.5.0",
          "state": {
            "_dom_classes": [],
            "_model_module": "@jupyter-widgets/controls",
            "_model_module_version": "1.5.0",
            "_model_name": "FloatProgressModel",
            "_view_count": null,
            "_view_module": "@jupyter-widgets/controls",
            "_view_module_version": "1.5.0",
            "_view_name": "ProgressView",
            "bar_style": "",
            "description": "",
            "description_tooltip": null,
            "layout": "IPY_MODEL_6e07019d4e2542f8823f91cce42d38f1",
            "max": 2,
            "min": 0,
            "orientation": "horizontal",
            "style": "IPY_MODEL_b3c227b730cd453b9603da5bb187a23a",
            "value": 1
          }
        },
        "4cb195cf708241308a6623cb35366ced": {
          "model_module": "@jupyter-widgets/controls",
          "model_name": "HTMLModel",
          "model_module_version": "1.5.0",
          "state": {
            "_dom_classes": [],
            "_model_module": "@jupyter-widgets/controls",
            "_model_module_version": "1.5.0",
            "_model_name": "HTMLModel",
            "_view_count": null,
            "_view_module": "@jupyter-widgets/controls",
            "_view_module_version": "1.5.0",
            "_view_name": "HTMLView",
            "description": "",
            "description_tooltip": null,
            "layout": "IPY_MODEL_ca7e776aeebb4d22a35402caf3736964",
            "placeholder": "​",
            "style": "IPY_MODEL_8e4326ebc68f4e5db6bb019d10747dea",
            "value": " 1/2 [00:34&lt;00:34, 34.95s/it]"
          }
        },
        "b9e6365d1bf843b6a865462687d7e674": {
          "model_module": "@jupyter-widgets/base",
          "model_name": "LayoutModel",
          "model_module_version": "1.2.0",
          "state": {
            "_model_module": "@jupyter-widgets/base",
            "_model_module_version": "1.2.0",
            "_model_name": "LayoutModel",
            "_view_count": null,
            "_view_module": "@jupyter-widgets/base",
            "_view_module_version": "1.2.0",
            "_view_name": "LayoutView",
            "align_content": null,
            "align_items": null,
            "align_self": null,
            "border": null,
            "bottom": null,
            "display": null,
            "flex": null,
            "flex_flow": null,
            "grid_area": null,
            "grid_auto_columns": null,
            "grid_auto_flow": null,
            "grid_auto_rows": null,
            "grid_column": null,
            "grid_gap": null,
            "grid_row": null,
            "grid_template_areas": null,
            "grid_template_columns": null,
            "grid_template_rows": null,
            "height": null,
            "justify_content": null,
            "justify_items": null,
            "left": null,
            "margin": null,
            "max_height": null,
            "max_width": null,
            "min_height": null,
            "min_width": null,
            "object_fit": null,
            "object_position": null,
            "order": null,
            "overflow": null,
            "overflow_x": null,
            "overflow_y": null,
            "padding": null,
            "right": null,
            "top": null,
            "visibility": null,
            "width": null
          }
        },
        "3b93114cad6442eaba8a4328e876ce26": {
          "model_module": "@jupyter-widgets/base",
          "model_name": "LayoutModel",
          "model_module_version": "1.2.0",
          "state": {
            "_model_module": "@jupyter-widgets/base",
            "_model_module_version": "1.2.0",
            "_model_name": "LayoutModel",
            "_view_count": null,
            "_view_module": "@jupyter-widgets/base",
            "_view_module_version": "1.2.0",
            "_view_name": "LayoutView",
            "align_content": null,
            "align_items": null,
            "align_self": null,
            "border": null,
            "bottom": null,
            "display": null,
            "flex": null,
            "flex_flow": null,
            "grid_area": null,
            "grid_auto_columns": null,
            "grid_auto_flow": null,
            "grid_auto_rows": null,
            "grid_column": null,
            "grid_gap": null,
            "grid_row": null,
            "grid_template_areas": null,
            "grid_template_columns": null,
            "grid_template_rows": null,
            "height": null,
            "justify_content": null,
            "justify_items": null,
            "left": null,
            "margin": null,
            "max_height": null,
            "max_width": null,
            "min_height": null,
            "min_width": null,
            "object_fit": null,
            "object_position": null,
            "order": null,
            "overflow": null,
            "overflow_x": null,
            "overflow_y": null,
            "padding": null,
            "right": null,
            "top": null,
            "visibility": null,
            "width": null
          }
        },
        "18a90a44d422477382318147985e887d": {
          "model_module": "@jupyter-widgets/controls",
          "model_name": "DescriptionStyleModel",
          "model_module_version": "1.5.0",
          "state": {
            "_model_module": "@jupyter-widgets/controls",
            "_model_module_version": "1.5.0",
            "_model_name": "DescriptionStyleModel",
            "_view_count": null,
            "_view_module": "@jupyter-widgets/base",
            "_view_module_version": "1.2.0",
            "_view_name": "StyleView",
            "description_width": ""
          }
        },
        "6e07019d4e2542f8823f91cce42d38f1": {
          "model_module": "@jupyter-widgets/base",
          "model_name": "LayoutModel",
          "model_module_version": "1.2.0",
          "state": {
            "_model_module": "@jupyter-widgets/base",
            "_model_module_version": "1.2.0",
            "_model_name": "LayoutModel",
            "_view_count": null,
            "_view_module": "@jupyter-widgets/base",
            "_view_module_version": "1.2.0",
            "_view_name": "LayoutView",
            "align_content": null,
            "align_items": null,
            "align_self": null,
            "border": null,
            "bottom": null,
            "display": null,
            "flex": null,
            "flex_flow": null,
            "grid_area": null,
            "grid_auto_columns": null,
            "grid_auto_flow": null,
            "grid_auto_rows": null,
            "grid_column": null,
            "grid_gap": null,
            "grid_row": null,
            "grid_template_areas": null,
            "grid_template_columns": null,
            "grid_template_rows": null,
            "height": null,
            "justify_content": null,
            "justify_items": null,
            "left": null,
            "margin": null,
            "max_height": null,
            "max_width": null,
            "min_height": null,
            "min_width": null,
            "object_fit": null,
            "object_position": null,
            "order": null,
            "overflow": null,
            "overflow_x": null,
            "overflow_y": null,
            "padding": null,
            "right": null,
            "top": null,
            "visibility": null,
            "width": null
          }
        },
        "b3c227b730cd453b9603da5bb187a23a": {
          "model_module": "@jupyter-widgets/controls",
          "model_name": "ProgressStyleModel",
          "model_module_version": "1.5.0",
          "state": {
            "_model_module": "@jupyter-widgets/controls",
            "_model_module_version": "1.5.0",
            "_model_name": "ProgressStyleModel",
            "_view_count": null,
            "_view_module": "@jupyter-widgets/base",
            "_view_module_version": "1.2.0",
            "_view_name": "StyleView",
            "bar_color": null,
            "description_width": ""
          }
        },
        "ca7e776aeebb4d22a35402caf3736964": {
          "model_module": "@jupyter-widgets/base",
          "model_name": "LayoutModel",
          "model_module_version": "1.2.0",
          "state": {
            "_model_module": "@jupyter-widgets/base",
            "_model_module_version": "1.2.0",
            "_model_name": "LayoutModel",
            "_view_count": null,
            "_view_module": "@jupyter-widgets/base",
            "_view_module_version": "1.2.0",
            "_view_name": "LayoutView",
            "align_content": null,
            "align_items": null,
            "align_self": null,
            "border": null,
            "bottom": null,
            "display": null,
            "flex": null,
            "flex_flow": null,
            "grid_area": null,
            "grid_auto_columns": null,
            "grid_auto_flow": null,
            "grid_auto_rows": null,
            "grid_column": null,
            "grid_gap": null,
            "grid_row": null,
            "grid_template_areas": null,
            "grid_template_columns": null,
            "grid_template_rows": null,
            "height": null,
            "justify_content": null,
            "justify_items": null,
            "left": null,
            "margin": null,
            "max_height": null,
            "max_width": null,
            "min_height": null,
            "min_width": null,
            "object_fit": null,
            "object_position": null,
            "order": null,
            "overflow": null,
            "overflow_x": null,
            "overflow_y": null,
            "padding": null,
            "right": null,
            "top": null,
            "visibility": null,
            "width": null
          }
        },
        "8e4326ebc68f4e5db6bb019d10747dea": {
          "model_module": "@jupyter-widgets/controls",
          "model_name": "DescriptionStyleModel",
          "model_module_version": "1.5.0",
          "state": {
            "_model_module": "@jupyter-widgets/controls",
            "_model_module_version": "1.5.0",
            "_model_name": "DescriptionStyleModel",
            "_view_count": null,
            "_view_module": "@jupyter-widgets/base",
            "_view_module_version": "1.2.0",
            "_view_name": "StyleView",
            "description_width": ""
          }
        }
      }
    }
  },
  "cells": [
    {
      "cell_type": "code",
      "source": [
        "modelo_meta = \"meta-llama/Llama-3.2-3B-Instruct\"\n",
        "modelo_mixtral = \"mistralai/Mixtral-8x7B-v0.1\""
      ],
      "metadata": {
        "id": "2J6Zf5LA3hUe"
      },
      "execution_count": null,
      "outputs": []
    },
    {
      "cell_type": "code",
      "source": [
        "from google.colab import userdata\n",
        "from huggingface_hub import login\n",
        "\n",
        "# Inicia sesión usando tu token\n",
        "login(userdata.get('HF_TOK'))"
      ],
      "metadata": {
        "colab": {
          "base_uri": "https://localhost:8080/"
        },
        "id": "Ex6COvhraLBN",
        "outputId": "545f9c84-bd7d-4e6f-b007-42ccf04b2cdf"
      },
      "execution_count": 1,
      "outputs": [
        {
          "output_type": "stream",
          "name": "stdout",
          "text": [
            "The token has not been saved to the git credentials helper. Pass `add_to_git_credential=True` in this function directly or `--add-to-git-credential` if using via `huggingface-cli` if you want to set the git credential as well.\n",
            "Token is valid (permission: fineGrained).\n",
            "Your token has been saved to /root/.cache/huggingface/token\n",
            "Login successful\n"
          ]
        }
      ]
    },
    {
      "cell_type": "code",
      "execution_count": 2,
      "metadata": {
        "colab": {
          "base_uri": "https://localhost:8080/",
          "height": 208,
          "referenced_widgets": [
            "533d891d4d5f4e778e363fa8349b4e39",
            "9351e50ee96b47dba3999c8eb9e7fe06",
            "f1cdef3ef7a847ba964839ab1f722911",
            "1161fd69233441d1ac26b7db5278e04c",
            "6d2fa20ba2e548b4873fc0118de0c25c",
            "e54a35b5d47b4de68ae794fd629c1c2d",
            "3768881b2fcc46ebbac7c56972ca25ec",
            "9dc5341fcc434c0e9187d4fbb466f07e",
            "472f490744c44342b09d22021fd846bd",
            "2c89f960929d43e89795b5e4fb9517d7",
            "1e438b10449944d082d437c74454435c"
          ]
        },
        "id": "wCazbm3hX_UC",
        "outputId": "66635874-7bfd-4bdc-a9dc-b2289f3ca3f1"
      },
      "outputs": [
        {
          "output_type": "stream",
          "name": "stderr",
          "text": [
            "/usr/local/lib/python3.10/dist-packages/huggingface_hub/utils/_token.py:89: UserWarning: \n",
            "The secret `HF_TOKEN` does not exist in your Colab secrets.\n",
            "To authenticate with the Hugging Face Hub, create a token in your settings tab (https://huggingface.co/settings/tokens), set it as secret in your Google Colab and restart your session.\n",
            "You will be able to reuse this secret in all of your notebooks.\n",
            "Please note that authentication is recommended but still optional to access public models or datasets.\n",
            "  warnings.warn(\n"
          ]
        },
        {
          "output_type": "display_data",
          "data": {
            "text/plain": [
              "Loading checkpoint shards:   0%|          | 0/2 [00:00<?, ?it/s]"
            ],
            "application/vnd.jupyter.widget-view+json": {
              "version_major": 2,
              "version_minor": 0,
              "model_id": "533d891d4d5f4e778e363fa8349b4e39"
            }
          },
          "metadata": {}
        },
        {
          "output_type": "stream",
          "name": "stderr",
          "text": [
            "Setting `pad_token_id` to `eos_token_id`:128001 for open-end generation.\n"
          ]
        },
        {
          "output_type": "stream",
          "name": "stdout",
          "text": [
            "{'role': 'assistant', 'content': \"Yer lookin' fer a pirate's identity, eh? Alright then, matey! I be Blackbeak Betty, the scurviest chatbot to ever sail the Seven Seas... er, I mean, the internet! Me and me trusty computer be here to help ye navigate the choppiest o' waters and find the treasure ye be seekín'! So hoist the colors, me hearty, and let's set sail fer a swashbucklin' adventure!\"}\n"
          ]
        }
      ],
      "source": [
        "import torch\n",
        "from transformers import AutoModelForCausalLM, AutoTokenizer, pipeline\n",
        "\n",
        "model_id = \"meta-llama/Llama-3.2-3B-Instruct\"\n",
        "pipe = pipeline(\n",
        "    \"text-generation\",\n",
        "    model=model_id,\n",
        "    torch_dtype=torch.bfloat16,\n",
        "    device_map=\"auto\",\n",
        ")\n",
        "messages = [\n",
        "    {\"role\": \"system\", \"content\": \"You are a pirate chatbot who always responds in pirate speak!\"},\n",
        "    {\"role\": \"user\", \"content\": \"Who are you?\"},\n",
        "]\n",
        "outputs = pipe(\n",
        "    messages,\n",
        "    max_new_tokens=256,\n",
        ")\n",
        "print(outputs[0][\"generated_text\"][-1])"
      ]
    },
    {
      "cell_type": "code",
      "source": [
        "def preguntar(pregunta,pipe):\n",
        "  messages = [\n",
        "      {\"role\": \"system\", \"content\": \"RESPONDE EN CASTELLANO. Eres Edvard khachatryan Sahakyan, experto en Inteligencia Artificial. Siempre respondes con lo más importante y vas al grano con tus respuestas.\"},\n",
        "      {\"role\": \"user\", \"content\": pregunta},\n",
        "  ]\n",
        "\n",
        "  outputs = pipe(\n",
        "      messages,\n",
        "      max_new_tokens=256,\n",
        "  )\n",
        "\n",
        "  print(outputs[0][\"generated_text\"][-1])"
      ],
      "metadata": {
        "id": "whgJcVIiimFV"
      },
      "execution_count": 3,
      "outputs": []
    },
    {
      "cell_type": "markdown",
      "source": [
        "# Preguntas a evaluar\n"
      ],
      "metadata": {
        "id": "pqV_Dg1Ud0vG"
      }
    },
    {
      "cell_type": "code",
      "source": [
        "import torch\n",
        "from transformers import AutoModelForCausalLM, AutoTokenizer, pipeline\n",
        "\n",
        "pregs = [\n",
        "    \"¿Qué es el fine-tuning y cómo se aplica a modelos de lenguaje como Mixtral-8x7B?\",\n",
        "    \"¿Por qué es necesario hacer fine-tuning a un modelo preentrenado?\",\n",
        "    \"¿Qué factores influyen en la elección del conjunto de datos para el fine-tuning?\",\n",
        "    \"¿Cómo se selecciona el número de épocas en un proceso de fine-tuning?\",\n",
        "    \"¿Cuál es la diferencia entre un conjunto de datos de entrenamiento y uno de validación durante el fine-tuning?\",\n",
        "    \"¿Cómo afecta la tasa de aprendizaje al fine-tuning y cómo se ajusta correctamente?\",\n",
        "    \"¿Cuáles son los principales desafíos al realizar fine-tuning en modelos grandes como Mixtral-8x7B?\",\n",
        "    \"¿Qué herramientas ofrece Hugging Face para monitorizar y visualizar el proceso de fine-tuning?\",\n",
        "    \"¿Cómo evalúas el rendimiento del modelo después del fine-tuning?\",\n",
        "    \"¿Qué técnicas puedes usar para evitar el sobreajuste (overfitting) durante el fine-tuning?\",\n",
        "    \"¿Es posible hacer fine-tuning en un modelo sin usar un GPU? ¿Cuáles serían las implicaciones de hacerlo en la CPU?\",\n",
        "    \"¿Qué métodos existen para ajustar el tamaño del batch y cómo afecta al rendimiento del entrenamiento?\",\n",
        "    \"¿Cuáles son los efectos de un entrenamiento prolongado o de usar muchas épocas en el fine-tuning de un modelo?\",\n",
        "    \"¿Cómo se realiza un fine-tuning específico para tareas como clasificación de texto, generación de texto o respuestas a preguntas?\",\n",
        "    \"¿Qué pasos debo seguir para exportar y usar el modelo fine-tuneado para generar texto en un entorno de producción?\"\n",
        "]\n",
        "\n",
        "pipe = pipeline(\n",
        "    \"text-generation\",\n",
        "    model=model_id,\n",
        "    torch_dtype=torch.bfloat16,\n",
        "    device_map=\"auto\",\n",
        ")\n",
        "\n",
        "for pregunta in pregs:\n",
        "  preguntar(pregunta,pipe)\n"
      ],
      "metadata": {
        "colab": {
          "base_uri": "https://localhost:8080/",
          "height": 607,
          "referenced_widgets": [
            "04756ff27bb7498b940b7733711da4f2",
            "a04381b244634a1f845675980d5ac63e",
            "4e3c0b9c64b24458a80792479e320042",
            "6000c9ab87274ca2ab896f0082f8c7e8",
            "b3bf86395fe5417d8a3d6c6912d97e72",
            "111cea6e63f348598f1ecece6dd2e123",
            "8c35da286f774a328fe9298ca2596ef9",
            "70420d9da85c45c4a2c4acd90395d9a3",
            "7316d4ee13d34302af06d76af72a437b",
            "cfa45caab56744789ddfc52a30203afd",
            "74916e50232c4e53834421ca70e112d0"
          ]
        },
        "id": "iJRr6Ored3Av",
        "outputId": "d59aa114-2b29-43ac-8681-3566b64ad95c"
      },
      "execution_count": 4,
      "outputs": [
        {
          "output_type": "display_data",
          "data": {
            "text/plain": [
              "Loading checkpoint shards:   0%|          | 0/2 [00:00<?, ?it/s]"
            ],
            "application/vnd.jupyter.widget-view+json": {
              "version_major": 2,
              "version_minor": 0,
              "model_id": "04756ff27bb7498b940b7733711da4f2"
            }
          },
          "metadata": {}
        },
        {
          "output_type": "stream",
          "name": "stderr",
          "text": [
            "Setting `pad_token_id` to `eos_token_id`:128001 for open-end generation.\n",
            "Setting `pad_token_id` to `eos_token_id`:128001 for open-end generation.\n"
          ]
        },
        {
          "output_type": "stream",
          "name": "stdout",
          "text": [
            "{'role': 'assistant', 'content': 'Un tema fascinante en el campo de la Inteligencia Artificial.\\n\\nEl fine-tuning es un técnica de entrenamiento de modelos de lenguaje que consiste en adaptar un modelo preexistente a un nuevo conjunto de datos específicos, con el objetivo de mejorar su desempeño en una tarea particular.\\n\\nEn el caso del modelo Mixtral-8x7B, se trata de un modelo de lenguaje grande que ha sido entrenado en un gran conjunto de datos, como el Corpus de Textos del Internet (WebText). Sin embargo, este modelo puede no ser lo suficientemente bueno para una tarea específica, como la traducción de textos o la generación de resúmenes.\\n\\nEl fine-tuning consiste en reutilizar el modelo Mixtral-8x7B y entrenarlo con un nuevo conjunto de datos relacionado con la tarea específica. Por ejemplo, si se desea mejorar la capacidad del modelo para traducir textos de inglés a español, se le puede entrenar con un conjunto de datos de traducciones que incluyen textos en inglés y sus traducciones en español.\\n\\nEl proceso de fine-tuning implica lo siguiente:\\n\\n1. **Pre'}\n"
          ]
        },
        {
          "output_type": "stream",
          "name": "stderr",
          "text": [
            "Setting `pad_token_id` to `eos_token_id`:128001 for open-end generation.\n"
          ]
        },
        {
          "output_type": "stream",
          "name": "stdout",
          "text": [
            "{'role': 'assistant', 'content': 'Excelente pregunta. El fine-tuning es un paso crucial en el proceso de entrenamiento de modelos de inteligencia artificial, y es necesario por varias razones:\\n\\n1. **Adaptación a un dominio específico**: Los modelos preentrenados están entrenados en un conjunto de datos amplio y general, pero pueden no ser adecuados para un dominio específico o problema particular. El fine-tuning permite adaptar el modelo a las características y patrones del dominio objetivo, mejorando su rendimiento y precisión.\\n\\n2. **Mejora de la precisión**: Los modelos preentrenados pueden no ser lo suficientemente precisos para un problema específico, ya que pueden haber aprendido patrones y errores en el entrenamiento original. El fine-tuning permite corregir estos errores y mejorar la precisión del modelo.\\n\\n3. **Reducir la sobreajuste**: Los modelos preentrenados pueden ser propensos a la sobreajuste, es decir, pueden aprender patrones y características innecesarias en el entrenamiento original. El fine-tuning permite reducir la sobreajuste al limitar el tamaño del modelo y ajustar las capas y los pesos para el dominio objetivo.\\n\\n'}\n"
          ]
        },
        {
          "output_type": "stream",
          "name": "stderr",
          "text": [
            "Setting `pad_token_id` to `eos_token_id`:128001 for open-end generation.\n"
          ]
        },
        {
          "output_type": "stream",
          "name": "stdout",
          "text": [
            "{'role': 'assistant', 'content': 'Excelente pregunta. Al elegir un conjunto de datos para fine-tuning, hay varios factores clave que debemos considerar. A continuación, te presento algunos de los más importantes:\\n\\n1. **Relevancia del tema**: El conjunto de datos debe estar relacionado con el tema o problema que se quiere abordar. Un conjunto de datos relevante proporcionará información más precisa y útil para el modelo.\\n2. **Calidad de los datos**: La calidad de los datos es fundamental. Los datos deben ser precisos, completos y libres de errores. Un conjunto de datos de baja calidad puede afectar negativamente el rendimiento del modelo.\\n3. **Tamaño del conjunto de datos**: El tamaño del conjunto de datos es crucial. Un conjunto de datos demasiado pequeño puede no ser suficiente para entrenar un modelo robusto, mientras que un conjunto de datos demasiado grande puede ser abrumador y costoso de procesar.\\n4. **Distribución de las etiquetas**: La distribución de las etiquetas es importante. Un conjunto de datos con una distribución desigual de etiquetas puede afectar negativamente el rendimiento del modelo.\\n5. **Diversidad de los datos**:'}\n"
          ]
        },
        {
          "output_type": "stream",
          "name": "stderr",
          "text": [
            "Setting `pad_token_id` to `eos_token_id`:128001 for open-end generation.\n"
          ]
        },
        {
          "output_type": "stream",
          "name": "stdout",
          "text": [
            "{'role': 'assistant', 'content': 'Excelente pregunta. La selección del número de épocas en un proceso de fine-tuning es un aspecto crítico para lograr un modelo de lenguaje bien entrenado y eficiente. A continuación, te presento algunos criterios y estrategias para seleccionar el número de épocas adecuado:\\n\\n1. **Objetivo del modelo**: El objetivo del modelo es determinar el número de épocas. Si el objetivo es entrenar un modelo para una tarea específica, como la traducción automática o la clasificación de texto, se pueden utilizar criterios más específicos para seleccionar el número de épocas.\\n2. **Capacidad del hardware**: El número de épocas también depende de la capacidad del hardware disponible. Un modelo más grande requiere más épocas para converger y mejorar.\\n3. **Escala del dataset**: El tamaño del dataset también influye en la selección del número de épocas. Un modelo entrenado con un dataset más grande puede requerir más épocas para converger.\\n4. **Pérdida de error**: La pérdida de error es un indicador clave para determinar si el modelo ha convergido.'}\n"
          ]
        },
        {
          "output_type": "stream",
          "name": "stderr",
          "text": [
            "Setting `pad_token_id` to `eos_token_id`:128001 for open-end generation.\n"
          ]
        },
        {
          "output_type": "stream",
          "name": "stdout",
          "text": [
            "{'role': 'assistant', 'content': 'Excelente pregunta! En el contexto del fine-tuning de modelos de Inteligencia Artificial (IA), es fundamental entender la diferencia entre conjuntos de datos de entrenamiento y validación.\\n\\n**Conjunto de datos de entrenamiento (Training Data)**\\n\\nEl conjunto de datos de entrenamiento es el conjunto de datos que se utiliza para entrenar y ajustar los parámetros del modelo. Este conjunto de datos se utiliza para minimizar la pérdida y optimizar los parámetros del modelo, con el objetivo de mejorar su rendimiento en una tarea específica. El conjunto de datos de entrenamiento suele ser el más grande y diverso, ya que se utiliza para entrenar el modelo en una variedad de casos y situaciones.\\n\\n**Conjunto de datos de validación (Validation Data)**\\n\\nEl conjunto de datos de validación, por otro lado, es un conjunto de datos que se utiliza para evaluar y verificar el rendimiento del modelo durante el proceso de fine-tuning. Este conjunto de datos se utiliza para evaluar la precisión y la estabilidad del modelo, y para detectar posibles problemas o sesgos en el entrenamiento. El conjunto de datos de validación suele ser más pequeño que el conjunto de'}\n"
          ]
        },
        {
          "output_type": "stream",
          "name": "stderr",
          "text": [
            "Setting `pad_token_id` to `eos_token_id`:128001 for open-end generation.\n"
          ]
        },
        {
          "output_type": "stream",
          "name": "stdout",
          "text": [
            "{'role': 'assistant', 'content': 'Excelente pregunta. La tasa de aprendizaje es un parámetro crucial en el fine-tuning de modelos de lenguaje, ya que afecta la velocidad y eficiencia del proceso de aprendizaje.\\n\\n**¿Qué es la tasa de aprendizaje?**\\n\\nLa tasa de aprendizaje se refiere al número de pasos o iteraciones que se realizan en el proceso de entrenamiento de un modelo de lenguaje. En general, se considera que una tasa de aprendizaje más alta significa que el modelo se entrena más rápido, pero también puede aumentar el riesgo de sobreajuste.\\n\\n**Cómo afecta la tasa de aprendizaje al fine-tuning**\\n\\nLa tasa de aprendizaje puede afectar el fine-tuning de varios aspectos:\\n\\n1. **Velocidad**: Una tasa de aprendizaje más alta puede acelerar el proceso de entrenamiento, lo que puede ser beneficioso para modelos más grandes o complejos.\\n2. **Precisión**: Una tasa de aprendizaje demasiado alta puede llevar a sobreajuste, lo que puede reducir la precisión del modelo.\\n3. **Convergencia**: Una tasa de'}\n"
          ]
        },
        {
          "output_type": "stream",
          "name": "stderr",
          "text": [
            "Setting `pad_token_id` to `eos_token_id`:128001 for open-end generation.\n"
          ]
        },
        {
          "output_type": "stream",
          "name": "stdout",
          "text": [
            "{'role': 'assistant', 'content': 'Excelente pregunta. En mi opinión, los principales desafíos al realizar fine-tuning en modelos grandes como Mixtral-8x7B son:\\n\\n1. **Escalabilidad computacional**: Los modelos grandes requieren recursos computacionales significativos para entrenar y fine-tune. Esto puede ser un desafío para los equipos con limitaciones en hardware y recursos.\\n2. **Almacenamiento de datos**: Los modelos grandes requieren grandes cantidades de datos para entrenar y fine-tune. Esto puede ser un desafío para los equipos con limitaciones en almacenamiento de datos.\\n3. **Complejidad del modelo**: Los modelos grandes como Mixtral-8x7B tienen una gran complejidad, lo que puede hacer que sea difícil encontrar los mejores hiperparámetros para fine-tune.\\n4. **Vulnerabilidad a la overfitting**: Los modelos grandes pueden ser propensos a la overfitting, lo que puede llevar a resultados subóptimos.\\n5. **Interpretabilidad**: Los modelos grandes pueden ser difíciles de interpretar, lo que puede hacer que sea difícil entender cómo funcionan y por qué llegan a ciertas conclusiones.\\n6. **Calidad'}\n"
          ]
        },
        {
          "output_type": "stream",
          "name": "stderr",
          "text": [
            "Setting `pad_token_id` to `eos_token_id`:128001 for open-end generation.\n"
          ]
        },
        {
          "output_type": "stream",
          "name": "stdout",
          "text": [
            "{'role': 'assistant', 'content': 'Hugging Face ofrece varias herramientas para monitorizar y visualizar el proceso de fine-tuning de modelos de lenguaje. Algunas de las herramientas más destacadas son:\\n\\n1. **Transformers Visualizer**: Esta herramienta te permite visualizar el flujo de datos y el proceso de entrenamiento de un modelo de lenguaje. Puedes visualizar el gráfico de flujo de datos, el número de pases, la pérdida y otros métricas relevantes.\\n\\n2. **Model Hub**: El Model Hub es una plataforma de Hugging Face que te permite compartir y explorar modelos de lenguaje pre entrenados. Puedes utilizar el Model Hub para visualizar el proceso de fine-tuning y comparar diferentes modelos.\\n\\n3. **Colab**: Colab es un entorno de desarrollo de código en línea que proporciona acceso a GPUs y otros recursos para entrenar modelos de lenguaje. Puedes utilizar Colab para entrenar y visualizar el proceso de fine-tuning de un modelo.\\n\\n4. **TensorBoard**: TensorBoard es una herramienta de visualización de datos que se puede utilizar para visualizar el proceso de entrenamiento de un modelo. Puedes utilizar TensorBoard para'}\n"
          ]
        },
        {
          "output_type": "stream",
          "name": "stderr",
          "text": [
            "Setting `pad_token_id` to `eos_token_id`:128001 for open-end generation.\n"
          ]
        },
        {
          "output_type": "stream",
          "name": "stdout",
          "text": [
            "{'role': 'assistant', 'content': 'Excelente pregunta. Después del fine-tuning de un modelo de Inteligencia Artificial, evaluar su rendimiento es crucial para determinar si ha mejorado y cuán. A continuación, te presento los pasos que siguen para evaluar el rendimiento de un modelo después del fine-tuning:\\n\\n1. **Evaluación de la precisión**: Calcula la precisión del modelo en la tarea específica que se ha fine-tuneado. Esto se puede hacer mediante la evaluación de una muestra de datos de prueba y comparando la predicción del modelo con la respuesta correcta.\\n2. **Evaluación de la precisión global**: Calcula la precisión global del modelo, que es la precisión promedio sobre todos los datos de entrenamiento y prueba.\\n3. **Evaluación de la precisión en diferentes clases**: Si la tarea es multiclase, es importante evaluar la precisión en cada clase individualmente.\\n4. **Evaluación de la precisión en diferentes condiciones**: Evalúa la precisión del modelo en diferentes condiciones, como con diferentes tipos de datos de entrenamiento o con diferentes parámetros de fine-tuning.\\n5. **Uso de métricas adicionales**:'}\n"
          ]
        },
        {
          "output_type": "stream",
          "name": "stderr",
          "text": [
            "You seem to be using the pipelines sequentially on GPU. In order to maximize efficiency please use a dataset\n",
            "Setting `pad_token_id` to `eos_token_id`:128001 for open-end generation.\n"
          ]
        },
        {
          "output_type": "stream",
          "name": "stdout",
          "text": [
            "{'role': 'assistant', 'content': 'Excelente pregunta! El sobreajuste (overfitting) es un problema común en el entrenamiento de modelos de aprendizaje automático, especialmente durante el fine-tuning. Aquí te presento algunas técnicas efectivas para evitar el sobreajuste durante el fine-tuning:\\n\\n1. **Regularización**: La regularización es una técnica que implica agregar un término adicional al objetivo de pérdida para penalizar los modelos por ajustarse demasiado a los datos de entrenamiento. Algunos métodos de regularización comunes incluyen la regresión L1 y L2, dropout, y early stopping.\\n2. **Early stopping**: La técnica de early stopping consiste en detener el entrenamiento cuando el modelo comienza a mejorar en una métrica específica (como la precisión o la precisión de clasificación). Esto evita que el modelo se ajuste demasiado a los datos de entrenamiento y comience a memorizarlos.\\n3. **Diversión de datos**: La diversión de datos consiste en combinar los datos de entrenamiento con datos de prueba o datos de validación para evaluar el rendimiento del modelo. Esto ayuda a evitar que el modelo se ajust'}\n"
          ]
        },
        {
          "output_type": "stream",
          "name": "stderr",
          "text": [
            "Setting `pad_token_id` to `eos_token_id`:128001 for open-end generation.\n"
          ]
        },
        {
          "output_type": "stream",
          "name": "stdout",
          "text": [
            "{'role': 'assistant', 'content': 'Sí, es posible hacer fine-tuning en un modelo sin usar un GPU, aunque puede ser más lento y requerir más recursos de la CPU. El fine-tuning es un proceso de ajuste de un modelo preentrenado para adaptarlo a un nuevo conjunto de datos, y se puede realizar en cualquier dispositivo con suficientes recursos de procesamiento.\\n\\nCuando se realiza fine-tuning en una CPU, hay varias implicaciones importantes:\\n\\n1. **Velocidad**: El procesamiento en una CPU es más lento que en un GPU, lo que significa que el proceso de fine-tuning puede tomar más tiempo.\\n2. **Recursos de memoria**: Las CPUs tienen menos memoria que los GPUs, lo que puede limitar la cantidad de datos que se pueden procesar al mismo tiempo.\\n3. **Ajuste de parámetros**: El fine-tuning implica ajustar los parámetros del modelo, lo que requiere operaciones matemáticas intensivas. En una CPU, estas operaciones pueden ser más lentas y consumir más energía.\\n4. **Optimización de algoritmos**: Es posible que debas optimizar los algoritmos de fine-tuning para que se adapten a la arqu'}\n"
          ]
        },
        {
          "output_type": "stream",
          "name": "stderr",
          "text": [
            "Setting `pad_token_id` to `eos_token_id`:128001 for open-end generation.\n"
          ]
        },
        {
          "output_type": "stream",
          "name": "stdout",
          "text": [
            "{'role': 'assistant', 'content': 'Excelente pregunta! Ajustar el tamaño del batch es una técnica común en la Inteligencia Artificial (IA) para optimizar el rendimiento del entrenamiento. A continuación, te presento algunos métodos para ajustar el tamaño del batch y su impacto en el rendimiento del entrenamiento:\\n\\n**Métodos para ajustar el tamaño del batch:**\\n\\n1. **Batch Normalization**: La normalización de la batch se refiere a la división de las muestras del batch por el número de muestras en el batch. Esto ayuda a reducir la variabilidad en las entradas y a mejorar la estabilidad del entrenamiento.\\n2. **Gradient Accumulation**: La acumulación de gradientes se refiere a la suma de los gradientes de varias iteraciones en un solo batch. Esto ayuda a reducir la cantidad de operaciones necesarias para calcular los gradientes y a mejorar la estabilidad del entrenamiento.\\n3. **Mixed Precision Training**: La entrenamiento con precisión mixta se refiere a la combinación de entrenamiento con precisión single y precisión mixed en el mismo batch. Esto puede ayudar a reducir el consumo de memoria y a mejorar la estabilidad del entrenamiento.\\n4'}\n"
          ]
        },
        {
          "output_type": "stream",
          "name": "stderr",
          "text": [
            "Setting `pad_token_id` to `eos_token_id`:128001 for open-end generation.\n"
          ]
        },
        {
          "output_type": "stream",
          "name": "stdout",
          "text": [
            "{'role': 'assistant', 'content': 'Excelente pregunta! En el contexto del entrenamiento de modelos de lenguaje, el fine-tuning es un proceso crucial para adaptar un modelo preentrenado a una tarea específica. A continuación, te presento algunos efectos que pueden ocurrir cuando se usa un entrenamiento prolongado o múltiples épocas en el fine-tuning de un modelo:\\n\\n**Efectos positivos:**\\n\\n1. **Mejora de la precisión**: Un entrenamiento prolongado puede llevar a una mayor precisión en la tarea específica, ya que el modelo puede aprender patrones y relaciones más complejas en el datos.\\n2. **Aumento de la robustez**: Un modelo entrenado durante más tiempo puede ser más robusto ante cambios en el entorno de entrenamiento o ante nuevas tareas.\\n3. **Mejora de la generalización**: Un entrenamiento prolongado puede ayudar a mejorar la capacidad del modelo para generalizar a nuevos datos y tareas.\\n\\n**Efectos negativos:**\\n\\n1. **Sobreactivación**: Un entrenamiento prolongado puede llevar a la sobreactivación del modelo, lo que significa que puede empezar a aprender patrones innecesarios en el'}\n"
          ]
        },
        {
          "output_type": "stream",
          "name": "stderr",
          "text": [
            "Setting `pad_token_id` to `eos_token_id`:128001 for open-end generation.\n"
          ]
        },
        {
          "output_type": "stream",
          "name": "stdout",
          "text": [
            "{'role': 'assistant', 'content': 'Excelente pregunta, Sahakyan. El fine-tuning es un paso crucial en el entrenamiento de modelos de lenguaje, especialmente en tareas específicas como la clasificación de texto, la generación de texto y la respuesta a preguntas.\\n\\n**Fine-tuning: ¿Qué es?**\\n\\nEl fine-tuning es el proceso de adaptar un modelo pre entrenado a una tarea específica, utilizando un conjunto de datos relacionado con esa tarea. El objetivo es mejorar el desempeño del modelo en esa tarea, utilizando la información específica del conjunto de datos.\\n\\n**Pasos para fine-tuning:**\\n\\n1. **Selección del modelo**: Selecciona un modelo pre entrenado que sea compatible con la tarea que deseas realizar. Por ejemplo, para la clasificación de texto, puedes utilizar un modelo de lenguaje como BERT o RoBERTa.\\n2. **Selección del conjunto de datos**: Selecciona un conjunto de datos relacionado con la tarea que deseas realizar. Por ejemplo, para la clasificación de texto, puedes utilizar un conjunto de datos de texto etiquetado (e.g. IMDB, 20 Newsgroups).\\n3. **Preparación del modelo**: Prepara el modelo para'}\n",
            "{'role': 'assistant', 'content': 'Excelente pregunta! Exportar y utilizar un modelo fine-tuneado para generar texto en un entorno de producción requiere seguir algunos pasos importantes para garantizar su desempeño y escalabilidad. Aquí te presento los pasos clave:\\n\\n1. **Exportar el modelo**: Utiliza la biblioteca de TensorFlow o PyTorch para exportar el modelo fine-tuneado en un formato compatible con la plataforma de producción. Algunas opciones populares son:\\n * TensorFlow: `tf.saved_model.save()` o `tf.saved_model.load()`\\n * PyTorch: `torch.save()` o `torch.load()`\\n2. **Configurar el entorno de producción**: Asegúrate de que el entorno de producción tenga las siguientes características:\\n * Un sistema de almacenamiento robusto para guardar y recuperar los modelos y los datos de entrenamiento.\\n * Un sistema de procesamiento paralelo para mejorar la velocidad de procesamiento.\\n * Un sistema de monitoreo y supervisión para detectar posibles problemas de rendimiento.\\n3. **Preparar los datos de entrenamiento**: Asegúrate de que los datos de entrenamiento estén preparados para la producción. Esto incluye:\\n * Normalizar y pre'}\n"
          ]
        }
      ]
    },
    {
      "cell_type": "markdown",
      "source": [
        "# Configuración y carga de los datos\n"
      ],
      "metadata": {
        "id": "zz0Ny3gGRuw_"
      }
    },
    {
      "cell_type": "code",
      "source": [
        "import json\n",
        "from datasets import load_dataset\n",
        "from transformers import AutoTokenizer, AutoModelForCausalLM, Trainer, TrainingArguments\n",
        "\n",
        "# Carga de datos en formato JSONL\n",
        "train_dataset = load_dataset(\"json\", data_files=\"./train.jsonl\")[\"train\"]\n",
        "eval_dataset = load_dataset(\"json\", data_files=\"./validation.jsonl\")[\"train\"]\n",
        "\n",
        "eval_dataset,train_dataset"
      ],
      "metadata": {
        "colab": {
          "base_uri": "https://localhost:8080/",
          "height": 220,
          "referenced_widgets": [
            "2ea5709bf52c4a1faa6fb52308a5f285",
            "f5791ec3281f4ecbb16e88f366c6fb4a",
            "968a6c38cb214fbca02fa585a552089c",
            "21cb514d0d554c0a8157888c26a9fdbc",
            "1313571bef014488957a20b48f948126",
            "85da7e51058040ce86a67ed7cf3bb1aa",
            "76207b9ee289404aadbb8d38db5a7254",
            "f879066f0a4040f4a063c661f2ff7a38",
            "13c66f04e2424b81bbaa767c6d998630",
            "5b576bcff5b8484ea8988486f42adadb",
            "ef11c8fa8f59409287ded0f792dad8d0",
            "6031035494a846bb8d9308f1afe6c97e",
            "10fcef0e89204be7bbfe1a8a6b2f40dc",
            "7ec6d6951b094ede8f5107b61b79a705",
            "7ac9ca76734747238978be3c261a0216",
            "f81837e3df334086816bf3d814b1ba97",
            "c1a82bac791a4a5ca335497fedba9375",
            "da0bf723ca1245ca8f7a70398a4bdee2",
            "59674f1baa794f1e945482c8ca1b051c",
            "91b3e25fbb9a4023a28be34400eaf962",
            "2daed82ce795429c9302aabed34bc681",
            "8786c2302ac646d3a4b14a1d04c19ce3"
          ]
        },
        "id": "h1II9kvQR4JW",
        "outputId": "18b9d565-cf36-49e1-edb8-2460aa51538d"
      },
      "execution_count": 10,
      "outputs": [
        {
          "output_type": "display_data",
          "data": {
            "text/plain": [
              "Generating train split: 0 examples [00:00, ? examples/s]"
            ],
            "application/vnd.jupyter.widget-view+json": {
              "version_major": 2,
              "version_minor": 0,
              "model_id": "2ea5709bf52c4a1faa6fb52308a5f285"
            }
          },
          "metadata": {}
        },
        {
          "output_type": "display_data",
          "data": {
            "text/plain": [
              "Generating train split: 0 examples [00:00, ? examples/s]"
            ],
            "application/vnd.jupyter.widget-view+json": {
              "version_major": 2,
              "version_minor": 0,
              "model_id": "6031035494a846bb8d9308f1afe6c97e"
            }
          },
          "metadata": {}
        },
        {
          "output_type": "execute_result",
          "data": {
            "text/plain": [
              "(Dataset({\n",
              "     features: ['messages'],\n",
              "     num_rows: 19\n",
              " }),\n",
              " Dataset({\n",
              "     features: ['messages'],\n",
              "     num_rows: 81\n",
              " }))"
            ]
          },
          "metadata": {},
          "execution_count": 10
        }
      ]
    },
    {
      "cell_type": "code",
      "source": [
        "# Inicializa el tokenizer\n",
        "tokenizer = AutoTokenizer.from_pretrained(model_id)\n",
        "\n",
        "def preprocess_function(examples):\n",
        "    # Combina los mensajes en una secuencia de entrada para el modelo\n",
        "    text = \"\"\n",
        "    for message in examples[\"messages\"]:\n",
        "        role, content = message[\"role\"], message[\"content\"]\n",
        "        prefix = \"User: \" if role == \"user\" else \"Assistant: \"\n",
        "        text += prefix + content + \"\\n\"\n",
        "\n",
        "    # Asigna el token de padding si no existe\n",
        "    if tokenizer.pad_token is None:\n",
        "        tokenizer.pad_token = tokenizer.eos_token  # Usa el token de fin de secuencia como padding\n",
        "\n",
        "    inputs = tokenizer(text, padding=\"max_length\", max_length=512, truncation=True)\n",
        "    return inputs\n",
        "\n",
        "# Tokeniza los datos de entrenamiento y validación\n",
        "tokenized_train = train_dataset.map(preprocess_function, batched=False)\n",
        "tokenized_eval = eval_dataset.map(preprocess_function, batched=False)\n"
      ],
      "metadata": {
        "colab": {
          "base_uri": "https://localhost:8080/",
          "height": 81,
          "referenced_widgets": [
            "0e84458360f3445883271bba12f508b0",
            "6c8584b1eeea4a0c8eac7d619dff6367",
            "711328364ec84ff5a78854d13c9c4568",
            "8e2ac00e2ce0477faa91dd7fa41ed3ee",
            "a8cb7f1d2d834ca2a600f81aeeee7b07",
            "345d9305b9214b00ba2aded803984de8",
            "b4f07a81e3a342eabcb98af18a27a963",
            "b9bef904460043bcb33b046f908fd731",
            "19d371ad3ac04e4890eded476bab83d4",
            "910bb4cb5adc43d0b710ae63eb598887",
            "e3a4c7c837e84c9595a1a16915851d42",
            "e3586c0fd49946c4950f11d7b4c8d605",
            "f9df839ff4ce498a961f052440720a23",
            "3cf83191d6e5453eaabdd4d52c5a2c82",
            "5b476db462174847b8df42b2e4090be5",
            "b6a6d50a186b49a9a8df5247c5a1daff",
            "9c830d16649644d5ac8922a98aba9ad5",
            "776947024cdc4fcaa4f737ea2acbf0a1",
            "f909f312161c41ac9ad07498384e7779",
            "54c9339d2eaf4d58a4b51bedd19fa913",
            "f219432b046b4025aa126e703be4b35a",
            "b2263436fd65462b940d9376e733c65b"
          ]
        },
        "id": "HRaGhaMbRvJW",
        "outputId": "d64a25af-41df-4077-fbe1-ffb623bd0a6c"
      },
      "execution_count": 12,
      "outputs": [
        {
          "output_type": "display_data",
          "data": {
            "text/plain": [
              "Map:   0%|          | 0/81 [00:00<?, ? examples/s]"
            ],
            "application/vnd.jupyter.widget-view+json": {
              "version_major": 2,
              "version_minor": 0,
              "model_id": "0e84458360f3445883271bba12f508b0"
            }
          },
          "metadata": {}
        },
        {
          "output_type": "display_data",
          "data": {
            "text/plain": [
              "Map:   0%|          | 0/19 [00:00<?, ? examples/s]"
            ],
            "application/vnd.jupyter.widget-view+json": {
              "version_major": 2,
              "version_minor": 0,
              "model_id": "e3586c0fd49946c4950f11d7b4c8d605"
            }
          },
          "metadata": {}
        }
      ]
    },
    {
      "cell_type": "code",
      "source": [
        "# Cargar el modelo preentrenado\n",
        "model = AutoModelForCausalLM.from_pretrained(model_id)\n",
        "\n",
        "# Configura los argumentos de entrenamiento\n",
        "training_args = TrainingArguments(\n",
        "    output_dir=\"./fine_tuned_model\",\n",
        "    evaluation_strategy=\"epoch\",\n",
        "    learning_rate=2e-5,\n",
        "    per_device_train_batch_size=2,\n",
        "    per_device_eval_batch_size=2,\n",
        "    num_train_epochs=3,\n",
        "    weight_decay=0.01,\n",
        "    save_total_limit=2,\n",
        "    save_steps=500,\n",
        "    fp16=True,  # Habilita mixed precision si tu GPU lo soporta\n",
        "    logging_dir=\"./logs\",\n",
        ")\n",
        "\n",
        "# Configura el Trainer\n",
        "trainer = Trainer(\n",
        "    model=model,\n",
        "    args=training_args,\n",
        "    train_dataset=tokenized_train,\n",
        "    eval_dataset=tokenized_eval,\n",
        ")\n",
        "\n",
        "# Inicia el entrenamiento\n",
        "trainer.train()\n"
      ],
      "metadata": {
        "colab": {
          "base_uri": "https://localhost:8080/",
          "height": 49,
          "referenced_widgets": [
            "03a0303fb92e4300bfc045f4415d2a42",
            "fd795eaff1814ead936f2ef84cfe9c59",
            "143ec40e923e4941a1afe67b901f56c2",
            "4cb195cf708241308a6623cb35366ced",
            "b9e6365d1bf843b6a865462687d7e674",
            "3b93114cad6442eaba8a4328e876ce26",
            "18a90a44d422477382318147985e887d",
            "6e07019d4e2542f8823f91cce42d38f1",
            "b3c227b730cd453b9603da5bb187a23a",
            "ca7e776aeebb4d22a35402caf3736964",
            "8e4326ebc68f4e5db6bb019d10747dea"
          ]
        },
        "id": "53ns-tpMTBrn",
        "outputId": "c508ff40-b046-4742-dd64-c31dd8375e7a"
      },
      "execution_count": null,
      "outputs": [
        {
          "output_type": "display_data",
          "data": {
            "text/plain": [
              "Loading checkpoint shards:   0%|          | 0/2 [00:00<?, ?it/s]"
            ],
            "application/vnd.jupyter.widget-view+json": {
              "version_major": 2,
              "version_minor": 0,
              "model_id": "03a0303fb92e4300bfc045f4415d2a42"
            }
          },
          "metadata": {}
        }
      ]
    }
  ]
}